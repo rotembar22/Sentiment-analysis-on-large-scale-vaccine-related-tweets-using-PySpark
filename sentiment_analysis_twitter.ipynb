{
  "nbformat": 4,
  "nbformat_minor": 0,
  "metadata": {
    "colab": {
      "name": "sentiment_analysis_twitter.ipynb",
      "provenance": [],
      "collapsed_sections": []
    },
    "kernelspec": {
      "name": "python3",
      "display_name": "Python 3"
    }
  },
  "cells": [
    {
      "cell_type": "code",
      "source": [
        "!pip install pyspark"
      ],
      "metadata": {
        "colab": {
          "base_uri": "https://localhost:8080/"
        },
        "id": "M23FLyK_vOqZ",
        "outputId": "2dea546d-1460-4689-f57b-63543441116c"
      },
      "execution_count": null,
      "outputs": [
        {
          "output_type": "stream",
          "name": "stdout",
          "text": [
            "Requirement already satisfied: pyspark in /usr/local/lib/python3.7/dist-packages (3.2.1)\n",
            "Requirement already satisfied: py4j==0.10.9.3 in /usr/local/lib/python3.7/dist-packages (from pyspark) (0.10.9.3)\n"
          ]
        }
      ]
    },
    {
      "cell_type": "code",
      "source": [
        "from pyspark.sql import SparkSession\n",
        "spark = SparkSession.builder\\\n",
        "        .master(\"local\")\\\n",
        "        .appName(\"Colab\")\\\n",
        "        .config('spark.ui.port', '4050')\\\n",
        "        .getOrCreate()"
      ],
      "metadata": {
        "id": "Jy4JlTpYXFB5"
      },
      "execution_count": null,
      "outputs": []
    },
    {
      "cell_type": "code",
      "metadata": {
        "id": "9SqP__-RRdN2",
        "colab": {
          "base_uri": "https://localhost:8080/"
        },
        "outputId": "59856795-4524-4d25-95a4-24661f8a1d1b"
      },
      "source": [
        "from google.colab import drive\n",
        "drive.mount('/content/drive')"
      ],
      "execution_count": null,
      "outputs": [
        {
          "output_type": "stream",
          "name": "stdout",
          "text": [
            "Drive already mounted at /content/drive; to attempt to forcibly remount, call drive.mount(\"/content/drive\", force_remount=True).\n"
          ]
        }
      ]
    },
    {
      "cell_type": "code",
      "source": [
        "import matplotlib.pyplot as plt\n",
        "import seaborn as sns\n",
        "import pandas as pd\n",
        "import numpy as np\n",
        "import sys\n",
        "sys.path.append('/content/drive/My Drive/big_data/')"
      ],
      "metadata": {
        "id": "0N_2jfinZQIr"
      },
      "execution_count": null,
      "outputs": []
    },
    {
      "cell_type": "code",
      "source": [
        "import pyspark.sql.types as types\n",
        "schema = (types.StructType()\n",
        "              .add('author id', types.StringType(), True)\n",
        "              .add('created_at', types.StringType(), True)\n",
        "              .add('geo', types.StringType(), True)\n",
        "              .add('bbox', types.StringType(), True)\n",
        "              .add('like_count', types.FloatType(), True)\n",
        "              .add('tweet', types.StringType(), True)\n",
        "              )\n",
        "\n",
        "df = ( spark.read.format(\"csv\")\n",
        "          .schema(schema)\n",
        "          .option(\"mode\", \"PERMISSIVE\")\n",
        "          .option(\"columnNameOfCorruptRecord\", \"corrupted_records\")\n",
        "          .load(r'/content/drive/My Drive/big_data/data/data.csv')\n",
        "      )\n",
        "\n",
        "df.show(20,truncate=False)"
      ],
      "metadata": {
        "colab": {
          "base_uri": "https://localhost:8080/"
        },
        "id": "kanFTRnhu6u2",
        "outputId": "9ab30656-9f97-4a2b-fbd7-b82dc642fa77"
      },
      "execution_count": null,
      "outputs": [
        {
          "output_type": "stream",
          "name": "stdout",
          "text": [
            "+------------------------------------------------------+-------------------------------------------------------+--------------------+------------------------------------------------+----------+--------------------------------------------------------------------------------------------------------------------------------------------------------------------------------------------------------------------------------------------------------------------------------------------------------------------+\n",
            "|author id                                             |created_at                                             |geo                 |bbox                                            |like_count|tweet                                                                                                                                                                                                                                                                                                               |\n",
            "+------------------------------------------------------+-------------------------------------------------------+--------------------+------------------------------------------------+----------+--------------------------------------------------------------------------------------------------------------------------------------------------------------------------------------------------------------------------------------------------------------------------------------------------------------------+\n",
            "|author id                                             |created_at                                             |geo                 |bbox                                            |null      |tweet                                                                                                                                                                                                                                                                                                               |\n",
            "|23083547.0                                            |2022-01-09 23:59:51+00:00                              |Virginia, USA       |[-83.67529, 36.540739, -75.16644, 39.466012]    |3.0       |I’m fascinated by how differently people respond to the COVID vaccine and boosters. My three teens all had boosters yesterday. Two had mild side effects (sore arm, swelling at injection site, achy). The other has been knocked out with chills, nausea and fatigue. So strange!                                  |\n",
            "|320187191.0                                           |2022-01-09 23:59:50+00:00                              |Ohio, USA           |[-84.8203089, 38.403186, -80.518626, 42.327133] |1.0       |@Andygz10 @FoxNews @AOC The vaccine lessens the effects of covid. Your ignorance is showing.                                                                                                                                                                                                                        |\n",
            "|1.11e+18                                              |2022-01-09 23:59:20+00:00                              |Atlanta, GA         |[-84.576827, 33.6475029, -84.289385, 33.8868859]|1.0       |@jolievie123 This is true!                                                                                                                                                                                                                                                                                          |\n",
            "|I went in for testing for the antibodies by Emory here| I didn't have any. Obvious choice to get the vaccine.\"|null                |null                                            |null      |null                                                                                                                                                                                                                                                                                                                |\n",
            "|188675285.0                                           |2022-01-09 23:58:59+00:00                              |Portales, NM        |[-103.365502, 34.156721, -103.309031, 34.200853]|0.0       |The More You Know!!!                                                                                                                                                                                                                                                                                                |\n",
            "|This...                                               |null                                                   |null                |null                                            |null      |null                                                                                                                                                                                                                                                                                                                |\n",
            "|'National Childhood Vaccine Injury Act of 1986'       |null                                                   |null                |null                                            |null      |null                                                                                                                                                                                                                                                                                                                |\n",
            "|https://t.co/VUHxyIIwcX\"                              |null                                                   |null                |null                                            |null      |null                                                                                                                                                                                                                                                                                                                |\n",
            "|1201443878.0                                          |2022-01-09 23:58:03+00:00                              |Pearland, TX        |[-95.438435, 29.497739, -95.215364, 29.59803]   |0.0       |@GOP Because the @Gop would rather risk their Lives than get a vaccine.  They did this on purpose to hurt Biden.                                                                                                                                                                                                    |\n",
            "|1.38e+18                                              |2022-01-09 23:57:46+00:00                              |Ohio, USA           |[-84.8203089, 38.403186, -80.518626, 42.327133] |0.0       |@FoxNews @AOC Vaccine: Used to stimulate the production of antibodies and provide immunity against one or several diseases, prepared from the causative agent of a disease, its products, or a synthetic substitute, treated to act as an antigen without inducing the disease. Works Great. https://t.co/6RjiB3OI8Y|\n",
            "|3034111934.0                                          |2022-01-09 23:56:42+00:00                              |Fresno, CA          |[-119.93251, 36.648905, -119.632419, 36.923179] |0.0       |@St1gEmUp @Zigmanfreud And far more children will be harmed by these vaccines than by the virus. It is already happening.                                                                                                                                                                                           |\n",
            "|1296932996.0                                          |2022-01-09 23:55:29+00:00                              |Canton, MA          |[-71.177553, 42.135115, -71.0665792, 42.227797] |0.0       |@NellSco you know he had covid and can not have vaccine yet...he has neen cleared to play by ATA...                                                                                                                                                                                                                 |\n",
            "|3034111934.0                                          |2022-01-09 23:55:01+00:00                              |Fresno, CA          |[-119.93251, 36.648905, -119.632419, 36.923179] |0.0       |@St1gEmUp @Zigmanfreud You keep ignoring the point that correlation, especially at the ridiculous degree that is happening with these vaccines, is enough to stop it, but you keep insisting that we press forward while people are injured and are dying from shots that clearly have limited if any benefit       |\n",
            "|1.38e+18                                              |2022-01-09 23:54:38+00:00                              |Ohio, USA           |[-84.8203089, 38.403186, -80.518626, 42.327133] |0.0       |@AskDesCamp @FoxNews @AOC Proving the vaccine is a fucking JOKE.                                                                                                                                                                                                                                                    |\n",
            "|21943036.0                                            |2022-01-09 23:54:25+00:00                              |Alaska, USA         |[-179.231086, 51.175093, 179.859685, 71.434357] |0.0       |@GMA @WhoopiGoldberg @BernieSanders If it is true that the younger royals want more of a revolutionary spirit, like I have as a fighter for the American people, perhaps rather than the older ones printing covid and delivering vaccines, we could undelete all of our tax money and deliver a healthy rich planet|\n",
            "|18702161.0                                            |2022-01-09 23:54:12+00:00                              |Prospect Heights, IL|[-87.969366, 42.087792, -87.875346, 42.124298]  |8.0       |@catturd2 The vaccinated think that not only can they not get covid but also think if they  do get it, that the symptoms will be light. I know of two people who were vaccinated and died from covid                                                                                                                |\n",
            "|600142716.0                                           |2022-01-09 23:52:50+00:00                              |Havre, MT           |[-109.7272443, 48.528438, -109.64947, 48.557893]|17.0      |@BetaRayBob1 @politvidchannel Explain why a lot of vaccinated people are still getting Covid.  I'm not vaxxed and never got Covid. My family are vaccinated and they ended up with Covid. 🤷🏼‍♀️                                                                                                                   |\n",
            "|1201443878.0                                          |2022-01-09 23:52:16+00:00                              |Pearland, TX        |[-95.438435, 29.497739, -95.215364, 29.59803]   |0.0       |@GOP Oh. what a giant lie.  We know @Gop doesn't care. They would risk death rather than help Biden stop the spread by getting vaccinated.  I mean how many of their voters have passed?                                                                                                                            |\n",
            "|9.24e+17                                              |2022-01-09 23:51:45+00:00                              |Welcome, SC         |[-82.487383, 34.77942, -82.428968, 34.83635]    |0.0       |I had three vaccines.                                                                                                                                                                                                                                                                                               |\n",
            "+------------------------------------------------------+-------------------------------------------------------+--------------------+------------------------------------------------+----------+--------------------------------------------------------------------------------------------------------------------------------------------------------------------------------------------------------------------------------------------------------------------------------------------------------------------+\n",
            "only showing top 20 rows\n",
            "\n"
          ]
        }
      ]
    },
    {
      "cell_type": "code",
      "source": [
        "\n",
        "print((df.count(), len(df.columns)))\n",
        "\n",
        "# Drop null values\n",
        "df=df.na.drop(\"any\")\n",
        "print((df.count(), len(df.columns)))\n"
      ],
      "metadata": {
        "colab": {
          "base_uri": "https://localhost:8080/"
        },
        "id": "zlWmjSjV2jaq",
        "outputId": "30b41c31-c3f5-462c-80ca-c53f86659a6a"
      },
      "execution_count": null,
      "outputs": [
        {
          "output_type": "stream",
          "name": "stdout",
          "text": [
            "(979407, 6)\n",
            "(730537, 6)\n"
          ]
        }
      ]
    },
    {
      "cell_type": "code",
      "source": [
        "'''\n",
        "from pyspark.sql import SparkSession, Row\n",
        "\n",
        "df2=df.take(10000)\n",
        "spark = SparkSession.builder.getOrCreate()\n",
        "df = spark.createDataFrame(df2)\n",
        "print((df.count(), len(df.columns)))\n",
        "'''"
      ],
      "metadata": {
        "colab": {
          "base_uri": "https://localhost:8080/",
          "height": 53
        },
        "id": "5FxkA_UZgkfg",
        "outputId": "978c7248-09e6-42d0-fe73-f7680fd81743"
      },
      "execution_count": null,
      "outputs": [
        {
          "output_type": "execute_result",
          "data": {
            "application/vnd.google.colaboratory.intrinsic+json": {
              "type": "string"
            },
            "text/plain": [
              "'\\nfrom pyspark.sql import SparkSession, Row\\n\\ndf2=df.take(10000)\\nspark = SparkSession.builder.getOrCreate()\\ndf = spark.createDataFrame(df2)\\nprint((df.count(), len(df.columns)))\\n'"
            ]
          },
          "metadata": {},
          "execution_count": 7
        }
      ]
    },
    {
      "cell_type": "code",
      "source": [
        "pd_df= pd.read_csv(r'/content/drive/My Drive/big_data/data/data.csv')  \n",
        "pd_df.shape"
      ],
      "metadata": {
        "colab": {
          "base_uri": "https://localhost:8080/"
        },
        "id": "gIYE4SKTwlQC",
        "outputId": "d1ccad3a-e470-4e37-83f3-3e7604186da8"
      },
      "execution_count": null,
      "outputs": [
        {
          "output_type": "stream",
          "name": "stderr",
          "text": [
            "/usr/local/lib/python3.7/dist-packages/IPython/core/interactiveshell.py:2882: DtypeWarning: Columns (0) have mixed types.Specify dtype option on import or set low_memory=False.\n",
            "  exec(code_obj, self.user_global_ns, self.user_ns)\n"
          ]
        },
        {
          "output_type": "execute_result",
          "data": {
            "text/plain": [
              "(730531, 6)"
            ]
          },
          "metadata": {},
          "execution_count": 8
        }
      ]
    },
    {
      "cell_type": "markdown",
      "source": [
        "## Text Preprocessing\n",
        "\n",
        "### Remove non ASCII characters"
      ],
      "metadata": {
        "id": "10POBOYKwg9P"
      }
    },
    {
      "cell_type": "code",
      "source": [
        "from pyspark.sql.functions import udf\n",
        "from pyspark.sql.types import StringType\n",
        "import string\n",
        "import re\n",
        "\n",
        "# remove non ASCII characters\n",
        "def strip_non_ascii(data_str):\n",
        "    stripped = (c for c in data_str if 0 < ord(c) < 127)\n",
        "    return ''.join(stripped)\n",
        "\n",
        "# setup pyspark udf function\n",
        "strip_non_ascii_udf = udf(strip_non_ascii, StringType())\n",
        "df = df.withColumn('tweet',strip_non_ascii_udf(df['tweet']))\n",
        "\n",
        "df.show(5,True)"
      ],
      "metadata": {
        "id": "zXYSpdkP0NOz",
        "colab": {
          "base_uri": "https://localhost:8080/"
        },
        "outputId": "69dca148-be6a-47c0-a261-316b9a880e07"
      },
      "execution_count": null,
      "outputs": [
        {
          "output_type": "stream",
          "name": "stdout",
          "text": [
            "+------------+--------------------+-------------+--------------------+----------+--------------------+\n",
            "|   author id|          created_at|          geo|                bbox|like_count|               tweet|\n",
            "+------------+--------------------+-------------+--------------------+----------+--------------------+\n",
            "|  23083547.0|2022-01-09 23:59:...|Virginia, USA|[-83.67529, 36.54...|       3.0|Im fascinated by ...|\n",
            "| 320187191.0|2022-01-09 23:59:...|    Ohio, USA|[-84.8203089, 38....|       1.0|@Andygz10 @FoxNew...|\n",
            "|    1.11e+18|2022-01-09 23:59:...|  Atlanta, GA|[-84.576827, 33.6...|       1.0|@jolievie123 This...|\n",
            "| 188675285.0|2022-01-09 23:58:...| Portales, NM|[-103.365502, 34....|       0.0|The More You Know!!!|\n",
            "|1201443878.0|2022-01-09 23:58:...| Pearland, TX|[-95.438435, 29.4...|       0.0|@GOP Because the ...|\n",
            "+------------+--------------------+-------------+--------------------+----------+--------------------+\n",
            "only showing top 5 rows\n",
            "\n"
          ]
        }
      ]
    },
    {
      "cell_type": "markdown",
      "source": [
        "### Fixed abbreviation"
      ],
      "metadata": {
        "id": "tg2wlQjSxCPy"
      }
    },
    {
      "cell_type": "code",
      "source": [
        "# fix abbreviation\n",
        "def fix_abbreviation(data_str):\n",
        "    data_str = data_str.lower()\n",
        "    data_str = re.sub(r'\\bthats\\b', 'that is', data_str)\n",
        "    data_str = re.sub(r'\\bive\\b', 'i have', data_str)\n",
        "    data_str = re.sub(r'\\bim\\b', 'i am', data_str)\n",
        "    data_str = re.sub(r'\\bya\\b', 'yeah', data_str)\n",
        "    data_str = re.sub(r'\\bcant\\b', 'can not', data_str)\n",
        "    data_str = re.sub(r'\\bdont\\b', 'do not', data_str)\n",
        "    data_str = re.sub(r'\\bwont\\b', 'will not', data_str)\n",
        "    data_str = re.sub(r'\\bid\\b', 'i would', data_str)\n",
        "    data_str = re.sub(r'wtf', 'what the fuck', data_str)\n",
        "    data_str = re.sub(r'\\bwth\\b', 'what the hell', data_str)\n",
        "    data_str = re.sub(r'\\br\\b', 'are', data_str)\n",
        "    data_str = re.sub(r'\\bu\\b', 'you', data_str)\n",
        "    data_str = re.sub(r'\\bk\\b', 'OK', data_str)\n",
        "    data_str = re.sub(r'\\bsux\\b', 'sucks', data_str)\n",
        "    data_str = re.sub(r'\\bno+\\b', 'no', data_str)\n",
        "    data_str = re.sub(r'\\bcoo+\\b', 'cool', data_str)\n",
        "    data_str = re.sub(r'rt\\b', '', data_str)\n",
        "    data_str = data_str.strip()\n",
        "    return data_str\n",
        "\n",
        "fix_abbreviation_udf = udf(fix_abbreviation, StringType())\n",
        "df = df.withColumn('tweet',fix_abbreviation_udf(df['tweet']))\n",
        "df.show(5,True)"
      ],
      "metadata": {
        "colab": {
          "base_uri": "https://localhost:8080/"
        },
        "id": "F3Rla3pFxBnv",
        "outputId": "e6c7a4f6-1675-4cb5-bddc-b5391e7cff4d"
      },
      "execution_count": null,
      "outputs": [
        {
          "output_type": "stream",
          "name": "stdout",
          "text": [
            "+------------+--------------------+-------------+--------------------+----------+--------------------+\n",
            "|   author id|          created_at|          geo|                bbox|like_count|               tweet|\n",
            "+------------+--------------------+-------------+--------------------+----------+--------------------+\n",
            "|  23083547.0|2022-01-09 23:59:...|Virginia, USA|[-83.67529, 36.54...|       3.0|i am fascinated b...|\n",
            "| 320187191.0|2022-01-09 23:59:...|    Ohio, USA|[-84.8203089, 38....|       1.0|@andygz10 @foxnew...|\n",
            "|    1.11e+18|2022-01-09 23:59:...|  Atlanta, GA|[-84.576827, 33.6...|       1.0|@jolievie123 this...|\n",
            "| 188675285.0|2022-01-09 23:58:...| Portales, NM|[-103.365502, 34....|       0.0|the more you know!!!|\n",
            "|1201443878.0|2022-01-09 23:58:...| Pearland, TX|[-95.438435, 29.4...|       0.0|@gop because the ...|\n",
            "+------------+--------------------+-------------+--------------------+----------+--------------------+\n",
            "only showing top 5 rows\n",
            "\n"
          ]
        }
      ]
    },
    {
      "cell_type": "markdown",
      "source": [
        "### Remove irrelevant features"
      ],
      "metadata": {
        "id": "CZvLDfAqxRQa"
      }
    },
    {
      "cell_type": "code",
      "source": [
        "def remove_features(data_str):\n",
        "    # Compile regex\n",
        "    url_re = re.compile('https?://(www.)?\\w+\\.\\w+(/\\w+)*/?')\n",
        "    punc_re = re.compile('[%s]' % re.escape(string.punctuation))\n",
        "    num_re = re.compile('(\\\\d+)')\n",
        "    mention_re = re.compile('@(\\w+)')\n",
        "    alpha_num_re = re.compile(\"^[a-z0-9_.]+$\")\n",
        "    # Convert to lowercase\n",
        "    data_str = data_str.lower()\n",
        "    # Remove hyperlinks\n",
        "    data_str = url_re.sub(' ', data_str)\n",
        "    # Remove @mentions\n",
        "    data_str = mention_re.sub(' ', data_str)\n",
        "    # Remove puncuation\n",
        "    data_str = punc_re.sub(' ', data_str)\n",
        "    # Remove numeric 'words'\n",
        "    data_str = num_re.sub(' ', data_str)\n",
        "    # Remove non a-z 0-9 characters and words shorter than 1 characters\n",
        "    list_pos = 0\n",
        "    cleaned_str = ''\n",
        "    for word in data_str.split():\n",
        "        if list_pos == 0:\n",
        "            if alpha_num_re.match(word) and len(word) > 1:\n",
        "                cleaned_str = word\n",
        "            else:\n",
        "                cleaned_str = ' '\n",
        "        else:\n",
        "            if alpha_num_re.match(word) and len(word) > 1:\n",
        "                cleaned_str = cleaned_str + ' ' + word\n",
        "            else:\n",
        "                cleaned_str += ' '\n",
        "        list_pos += 1\n",
        "\n",
        "    # Remove unwanted space\n",
        "    return \" \".join(cleaned_str.split())\n",
        "\n",
        "# Setup pyspark udf function\n",
        "remove_features_udf = udf(remove_features, StringType())\n",
        "df = df.withColumn('tweet',remove_features_udf(df['tweet']))\n",
        "df.show(5,True)"
      ],
      "metadata": {
        "colab": {
          "base_uri": "https://localhost:8080/"
        },
        "id": "QQI9SO0FxRn1",
        "outputId": "6d78874a-a7e1-421a-ab2b-eb9fc4c464ac"
      },
      "execution_count": null,
      "outputs": [
        {
          "output_type": "stream",
          "name": "stdout",
          "text": [
            "+------------+--------------------+-------------+--------------------+----------+--------------------+\n",
            "|   author id|          created_at|          geo|                bbox|like_count|               tweet|\n",
            "+------------+--------------------+-------------+--------------------+----------+--------------------+\n",
            "|  23083547.0|2022-01-09 23:59:...|Virginia, USA|[-83.67529, 36.54...|       3.0|am fascinated by ...|\n",
            "| 320187191.0|2022-01-09 23:59:...|    Ohio, USA|[-84.8203089, 38....|       1.0|the vaccine lesse...|\n",
            "|    1.11e+18|2022-01-09 23:59:...|  Atlanta, GA|[-84.576827, 33.6...|       1.0|        this is true|\n",
            "| 188675285.0|2022-01-09 23:58:...| Portales, NM|[-103.365502, 34....|       0.0|   the more you know|\n",
            "|1201443878.0|2022-01-09 23:58:...| Pearland, TX|[-95.438435, 29.4...|       0.0|because the would...|\n",
            "+------------+--------------------+-------------+--------------------+----------+--------------------+\n",
            "only showing top 5 rows\n",
            "\n"
          ]
        }
      ]
    },
    {
      "cell_type": "markdown",
      "source": [
        "## Sentiment Analysis main function"
      ],
      "metadata": {
        "id": "UPVZLbEPxbN3"
      }
    },
    {
      "cell_type": "code",
      "source": [
        "from pyspark.sql.types import FloatType\n",
        "from textblob import TextBlob\n",
        "\n",
        "def sentiment_analysis(text):\n",
        "    return TextBlob(text).sentiment.polarity\n",
        "\n",
        "sentiment_analysis_udf = udf(sentiment_analysis , FloatType())\n",
        "df  = df.withColumn(\"sentiment_score\", sentiment_analysis_udf( df['tweet'] ))\n",
        "df.show(5,True)"
      ],
      "metadata": {
        "colab": {
          "base_uri": "https://localhost:8080/"
        },
        "id": "zIkBARk9xbUn",
        "outputId": "c0f2621f-2264-4579-b05e-a4bd87fd5499"
      },
      "execution_count": null,
      "outputs": [
        {
          "output_type": "stream",
          "name": "stdout",
          "text": [
            "+------------+--------------------+-------------+--------------------+----------+--------------------+---------------+\n",
            "|   author id|          created_at|          geo|                bbox|like_count|               tweet|sentiment_score|\n",
            "+------------+--------------------+-------------+--------------------+----------+--------------------+---------------+\n",
            "|  23083547.0|2022-01-09 23:59:...|Virginia, USA|[-83.67529, 36.54...|       3.0|am fascinated by ...|    0.039583333|\n",
            "| 320187191.0|2022-01-09 23:59:...|    Ohio, USA|[-84.8203089, 38....|       1.0|the vaccine lesse...|            0.0|\n",
            "|    1.11e+18|2022-01-09 23:59:...|  Atlanta, GA|[-84.576827, 33.6...|       1.0|        this is true|           0.35|\n",
            "| 188675285.0|2022-01-09 23:58:...| Portales, NM|[-103.365502, 34....|       0.0|   the more you know|            0.5|\n",
            "|1201443878.0|2022-01-09 23:58:...| Pearland, TX|[-95.438435, 29.4...|       0.0|because the would...|            0.0|\n",
            "+------------+--------------------+-------------+--------------------+----------+--------------------+---------------+\n",
            "only showing top 5 rows\n",
            "\n"
          ]
        }
      ]
    },
    {
      "cell_type": "markdown",
      "source": [
        "### Sentiment Labeling"
      ],
      "metadata": {
        "id": "4E4wleWIxuJU"
      }
    },
    {
      "cell_type": "code",
      "source": [
        "def condition(r):\n",
        "    if (r >=0.1):\n",
        "        label = \"positive\"\n",
        "    elif(r <= -0.1):\n",
        "        label = \"negative\"\n",
        "    else:\n",
        "        label = \"neutral\"\n",
        "    return label\n",
        "\n",
        "sentiment_udf = udf(lambda x: condition(x), StringType())"
      ],
      "metadata": {
        "id": "7qYgiPoLxvS5"
      },
      "execution_count": null,
      "outputs": []
    },
    {
      "cell_type": "code",
      "source": [
        "df  = df.withColumn(\"sentiment_label\", sentiment_udf( df['sentiment_score'] ))\n",
        "df.show(5,True)"
      ],
      "metadata": {
        "colab": {
          "base_uri": "https://localhost:8080/"
        },
        "id": "fGaNonZkyZcQ",
        "outputId": "1ffea313-c9bd-4913-d77a-bf27f0da38f1"
      },
      "execution_count": null,
      "outputs": [
        {
          "output_type": "stream",
          "name": "stdout",
          "text": [
            "+------------+--------------------+-------------+--------------------+----------+--------------------+---------------+---------------+\n",
            "|   author id|          created_at|          geo|                bbox|like_count|               tweet|sentiment_score|sentiment_label|\n",
            "+------------+--------------------+-------------+--------------------+----------+--------------------+---------------+---------------+\n",
            "|  23083547.0|2022-01-09 23:59:...|Virginia, USA|[-83.67529, 36.54...|       3.0|am fascinated by ...|    0.039583333|        neutral|\n",
            "| 320187191.0|2022-01-09 23:59:...|    Ohio, USA|[-84.8203089, 38....|       1.0|the vaccine lesse...|            0.0|        neutral|\n",
            "|    1.11e+18|2022-01-09 23:59:...|  Atlanta, GA|[-84.576827, 33.6...|       1.0|        this is true|           0.35|       positive|\n",
            "| 188675285.0|2022-01-09 23:58:...| Portales, NM|[-103.365502, 34....|       0.0|   the more you know|            0.5|       positive|\n",
            "|1201443878.0|2022-01-09 23:58:...| Pearland, TX|[-95.438435, 29.4...|       0.0|because the would...|            0.0|        neutral|\n",
            "+------------+--------------------+-------------+--------------------+----------+--------------------+---------------+---------------+\n",
            "only showing top 5 rows\n",
            "\n"
          ]
        }
      ]
    },
    {
      "cell_type": "markdown",
      "source": [
        "## Split Geo to state and city"
      ],
      "metadata": {
        "id": "J814vyxUWhpR"
      }
    },
    {
      "cell_type": "code",
      "source": [
        "from pyspark.sql.functions import substring, length, col, expr, split\n",
        "\n",
        "split_col = split(df['geo'], ', ')\n",
        "df = df.withColumn('city', split_col.getItem(0))\n",
        "df = df.withColumn('state', split_col.getItem(1))\n",
        "\n",
        "df.show(5)"
      ],
      "metadata": {
        "colab": {
          "base_uri": "https://localhost:8080/"
        },
        "id": "uIllQb14LeE5",
        "outputId": "270f2307-7abd-434c-996b-3da26f7625a4"
      },
      "execution_count": null,
      "outputs": [
        {
          "output_type": "stream",
          "name": "stdout",
          "text": [
            "+------------+--------------------+-------------+--------------------+----------+--------------------+---------------+---------------+--------+-----+\n",
            "|   author id|          created_at|          geo|                bbox|like_count|               tweet|sentiment_score|sentiment_label|    city|state|\n",
            "+------------+--------------------+-------------+--------------------+----------+--------------------+---------------+---------------+--------+-----+\n",
            "|  23083547.0|2022-01-09 23:59:...|Virginia, USA|[-83.67529, 36.54...|       3.0|am fascinated by ...|    0.039583333|        neutral|Virginia|  USA|\n",
            "| 320187191.0|2022-01-09 23:59:...|    Ohio, USA|[-84.8203089, 38....|       1.0|the vaccine lesse...|            0.0|        neutral|    Ohio|  USA|\n",
            "|    1.11e+18|2022-01-09 23:59:...|  Atlanta, GA|[-84.576827, 33.6...|       1.0|        this is true|           0.35|       positive| Atlanta|   GA|\n",
            "| 188675285.0|2022-01-09 23:58:...| Portales, NM|[-103.365502, 34....|       0.0|   the more you know|            0.5|       positive|Portales|   NM|\n",
            "|1201443878.0|2022-01-09 23:58:...| Pearland, TX|[-95.438435, 29.4...|       0.0|because the would...|            0.0|        neutral|Pearland|   TX|\n",
            "+------------+--------------------+-------------+--------------------+----------+--------------------+---------------+---------------+--------+-----+\n",
            "only showing top 5 rows\n",
            "\n"
          ]
        }
      ]
    },
    {
      "cell_type": "markdown",
      "source": [
        "### Fix the state column"
      ],
      "metadata": {
        "id": "YfcGZfBueBJM"
      }
    },
    {
      "cell_type": "code",
      "source": [
        "\n",
        "def fix_state_col(city_col, state_col):\n",
        "  if(state_col == \"USA\"):\n",
        "    return city_col\n",
        "  else:\n",
        "    return state_col\n",
        "\n",
        "fix_state_cols_udf = udf(fix_state_col , StringType())\n",
        "\n",
        "df2  = df.withColumn(\"state\", fix_state_cols_udf( df['city'], df['state'] ))\n",
        "df2.show(5,True)\n",
        "\n"
      ],
      "metadata": {
        "colab": {
          "base_uri": "https://localhost:8080/"
        },
        "id": "QFGxiDOIZvLU",
        "outputId": "d2da061d-0cd2-4936-ca3d-bbf09af08fb4"
      },
      "execution_count": null,
      "outputs": [
        {
          "output_type": "stream",
          "name": "stdout",
          "text": [
            "+------------+--------------------+-------------+--------------------+----------+--------------------+---------------+---------------+--------+--------+\n",
            "|   author id|          created_at|          geo|                bbox|like_count|               tweet|sentiment_score|sentiment_label|    city|   state|\n",
            "+------------+--------------------+-------------+--------------------+----------+--------------------+---------------+---------------+--------+--------+\n",
            "|  23083547.0|2022-01-09 23:59:...|Virginia, USA|[-83.67529, 36.54...|       3.0|am fascinated by ...|    0.039583333|        neutral|Virginia|Virginia|\n",
            "| 320187191.0|2022-01-09 23:59:...|    Ohio, USA|[-84.8203089, 38....|       1.0|the vaccine lesse...|            0.0|        neutral|    Ohio|    Ohio|\n",
            "|    1.11e+18|2022-01-09 23:59:...|  Atlanta, GA|[-84.576827, 33.6...|       1.0|        this is true|           0.35|       positive| Atlanta|      GA|\n",
            "| 188675285.0|2022-01-09 23:58:...| Portales, NM|[-103.365502, 34....|       0.0|   the more you know|            0.5|       positive|Portales|      NM|\n",
            "|1201443878.0|2022-01-09 23:58:...| Pearland, TX|[-95.438435, 29.4...|       0.0|because the would...|            0.0|        neutral|Pearland|      TX|\n",
            "+------------+--------------------+-------------+--------------------+----------+--------------------+---------------+---------------+--------+--------+\n",
            "only showing top 5 rows\n",
            "\n"
          ]
        }
      ]
    },
    {
      "cell_type": "markdown",
      "source": [
        "## ISO 8601 to date type pyspark"
      ],
      "metadata": {
        "id": "crzN7HmmBY6K"
      }
    },
    {
      "cell_type": "code",
      "source": [
        "from pyspark.sql.functions import *\n",
        "from pyspark.sql.functions import concat_ws\n",
        "\n",
        "df = df.withColumn(\"data_format\", to_date(\"created_at\"))\n",
        "\n",
        "# Weekoftheyear\n",
        "df=df.withColumn(\"timestamp\", concat_ws(\"created_at\", to_timestamp( \"created_at\").alias(\"timestamp\")))\n",
        "\n",
        "# Year\n",
        "df=df.withColumn(\"Formatted_date\", concat_ws(\"created_at\", date_format(\"created_at\", \"dd/MM/yyyy\").alias(\"Formatted_date\")))\n",
        "# Year\n",
        "df=df.withColumn(\"year\", concat_ws(\"created_at\", year( \"created_at\").alias(\"year\")))\n",
        "# Month\n",
        "df=df.withColumn(\"month\", concat_ws(\"created_at\", month( \"created_at\").alias(\"Month\")))\n",
        "# Dayofmonth\n",
        "df=df.withColumn(\"day_of_nonth\", concat_ws(\"created_at\", dayofmonth( \"created_at\").alias(\"Day of the Month\")))\n",
        "\n",
        "df.show(3)"
      ],
      "metadata": {
        "colab": {
          "base_uri": "https://localhost:8080/"
        },
        "id": "tStDPYWOBgfS",
        "outputId": "80082131-5582-46c7-edc8-63a6f2307ed9"
      },
      "execution_count": null,
      "outputs": [
        {
          "output_type": "stream",
          "name": "stdout",
          "text": [
            "+-----------+--------------------+-------------+--------------------+----------+--------------------+---------------+---------------+--------+-----+-----------+-------------------+--------------+----+-----+------------+\n",
            "|  author id|          created_at|          geo|                bbox|like_count|               tweet|sentiment_score|sentiment_label|    city|state|data_format|          timestamp|Formatted_date|year|month|day_of_nonth|\n",
            "+-----------+--------------------+-------------+--------------------+----------+--------------------+---------------+---------------+--------+-----+-----------+-------------------+--------------+----+-----+------------+\n",
            "| 23083547.0|2022-01-09 23:59:...|Virginia, USA|[-83.67529, 36.54...|       3.0|am fascinated by ...|    0.039583333|        neutral|Virginia|  USA| 2022-01-09|2022-01-09 23:59:51|    09/01/2022|2022|    1|           9|\n",
            "|320187191.0|2022-01-09 23:59:...|    Ohio, USA|[-84.8203089, 38....|       1.0|the vaccine lesse...|            0.0|        neutral|    Ohio|  USA| 2022-01-09|2022-01-09 23:59:50|    09/01/2022|2022|    1|           9|\n",
            "|   1.11e+18|2022-01-09 23:59:...|  Atlanta, GA|[-84.576827, 33.6...|       1.0|        this is true|           0.35|       positive| Atlanta|   GA| 2022-01-09|2022-01-09 23:59:20|    09/01/2022|2022|    1|           9|\n",
            "+-----------+--------------------+-------------+--------------------+----------+--------------------+---------------+---------------+--------+-----+-----------+-------------------+--------------+----+-----+------------+\n",
            "only showing top 3 rows\n",
            "\n"
          ]
        }
      ]
    },
    {
      "cell_type": "markdown",
      "source": [
        "## Average sentiment score for each day"
      ],
      "metadata": {
        "id": "ymwRHl_2ePsm"
      }
    },
    {
      "cell_type": "code",
      "source": [
        "from pyspark.sql.window import Window\n",
        "import datetime\n",
        "\n",
        "w = df.groupBy(window(\"timestamp\", \"1 day\")).agg(avg(\"sentiment_score\").alias(\"avg\"))\n",
        "\n",
        "spark.conf.set(\"spark.sql.execution.arrow.pyspark.enabled\", \"true\")\n",
        "result_pdf=w.select(w.window.start.cast(\"string\").alias(\"start\"), w.window.end.cast(\"string\").alias(\"end\"), \"avg\").select(\"*\").toPandas()\n",
        "\n",
        "#result_pdf[\"start\"]=result_pdf[\"start\"].apply(lambda s: datetime.datetime.strptime(s, '%Y-%m-%d %H:%M:%S'))\n",
        "\n",
        "result_pdf=result_pdf.sort_values(by=\"start\")\n",
        "result_pdf.to_csv('/content/drive/My Drive/big_data/results/avg_score_by_day.csv')  \n"
      ],
      "metadata": {
        "id": "uKAoncwPtNWD"
      },
      "execution_count": null,
      "outputs": []
    },
    {
      "cell_type": "code",
      "source": [
        "result_pdf.head()"
      ],
      "metadata": {
        "colab": {
          "base_uri": "https://localhost:8080/",
          "height": 206
        },
        "id": "GHcJoBZ0lGRf",
        "outputId": "52faa7de-1897-4e2e-a134-c9e099034bd3"
      },
      "execution_count": null,
      "outputs": [
        {
          "output_type": "execute_result",
          "data": {
            "text/html": [
              "\n",
              "  <div id=\"df-b829c5fd-e2a6-47ef-8357-b61fcbc237d6\">\n",
              "    <div class=\"colab-df-container\">\n",
              "      <div>\n",
              "<style scoped>\n",
              "    .dataframe tbody tr th:only-of-type {\n",
              "        vertical-align: middle;\n",
              "    }\n",
              "\n",
              "    .dataframe tbody tr th {\n",
              "        vertical-align: top;\n",
              "    }\n",
              "\n",
              "    .dataframe thead th {\n",
              "        text-align: right;\n",
              "    }\n",
              "</style>\n",
              "<table border=\"1\" class=\"dataframe\">\n",
              "  <thead>\n",
              "    <tr style=\"text-align: right;\">\n",
              "      <th></th>\n",
              "      <th>start</th>\n",
              "      <th>end</th>\n",
              "      <th>avg</th>\n",
              "    </tr>\n",
              "  </thead>\n",
              "  <tbody>\n",
              "    <tr>\n",
              "      <th>196</th>\n",
              "      <td>+94603-01-01 00:00:00</td>\n",
              "      <td>+94603-01-02 00:00:00</td>\n",
              "      <td>0.000000</td>\n",
              "    </tr>\n",
              "    <tr>\n",
              "      <th>200</th>\n",
              "      <td>2021-03-20 00:00:00</td>\n",
              "      <td>2021-03-21 00:00:00</td>\n",
              "      <td>0.129431</td>\n",
              "    </tr>\n",
              "    <tr>\n",
              "      <th>292</th>\n",
              "      <td>2021-03-21 00:00:00</td>\n",
              "      <td>2021-03-22 00:00:00</td>\n",
              "      <td>0.099462</td>\n",
              "    </tr>\n",
              "    <tr>\n",
              "      <th>296</th>\n",
              "      <td>2021-03-22 00:00:00</td>\n",
              "      <td>2021-03-23 00:00:00</td>\n",
              "      <td>0.108330</td>\n",
              "    </tr>\n",
              "    <tr>\n",
              "      <th>198</th>\n",
              "      <td>2021-03-23 00:00:00</td>\n",
              "      <td>2021-03-24 00:00:00</td>\n",
              "      <td>0.092393</td>\n",
              "    </tr>\n",
              "  </tbody>\n",
              "</table>\n",
              "</div>\n",
              "      <button class=\"colab-df-convert\" onclick=\"convertToInteractive('df-b829c5fd-e2a6-47ef-8357-b61fcbc237d6')\"\n",
              "              title=\"Convert this dataframe to an interactive table.\"\n",
              "              style=\"display:none;\">\n",
              "        \n",
              "  <svg xmlns=\"http://www.w3.org/2000/svg\" height=\"24px\"viewBox=\"0 0 24 24\"\n",
              "       width=\"24px\">\n",
              "    <path d=\"M0 0h24v24H0V0z\" fill=\"none\"/>\n",
              "    <path d=\"M18.56 5.44l.94 2.06.94-2.06 2.06-.94-2.06-.94-.94-2.06-.94 2.06-2.06.94zm-11 1L8.5 8.5l.94-2.06 2.06-.94-2.06-.94L8.5 2.5l-.94 2.06-2.06.94zm10 10l.94 2.06.94-2.06 2.06-.94-2.06-.94-.94-2.06-.94 2.06-2.06.94z\"/><path d=\"M17.41 7.96l-1.37-1.37c-.4-.4-.92-.59-1.43-.59-.52 0-1.04.2-1.43.59L10.3 9.45l-7.72 7.72c-.78.78-.78 2.05 0 2.83L4 21.41c.39.39.9.59 1.41.59.51 0 1.02-.2 1.41-.59l7.78-7.78 2.81-2.81c.8-.78.8-2.07 0-2.86zM5.41 20L4 18.59l7.72-7.72 1.47 1.35L5.41 20z\"/>\n",
              "  </svg>\n",
              "      </button>\n",
              "      \n",
              "  <style>\n",
              "    .colab-df-container {\n",
              "      display:flex;\n",
              "      flex-wrap:wrap;\n",
              "      gap: 12px;\n",
              "    }\n",
              "\n",
              "    .colab-df-convert {\n",
              "      background-color: #E8F0FE;\n",
              "      border: none;\n",
              "      border-radius: 50%;\n",
              "      cursor: pointer;\n",
              "      display: none;\n",
              "      fill: #1967D2;\n",
              "      height: 32px;\n",
              "      padding: 0 0 0 0;\n",
              "      width: 32px;\n",
              "    }\n",
              "\n",
              "    .colab-df-convert:hover {\n",
              "      background-color: #E2EBFA;\n",
              "      box-shadow: 0px 1px 2px rgba(60, 64, 67, 0.3), 0px 1px 3px 1px rgba(60, 64, 67, 0.15);\n",
              "      fill: #174EA6;\n",
              "    }\n",
              "\n",
              "    [theme=dark] .colab-df-convert {\n",
              "      background-color: #3B4455;\n",
              "      fill: #D2E3FC;\n",
              "    }\n",
              "\n",
              "    [theme=dark] .colab-df-convert:hover {\n",
              "      background-color: #434B5C;\n",
              "      box-shadow: 0px 1px 3px 1px rgba(0, 0, 0, 0.15);\n",
              "      filter: drop-shadow(0px 1px 2px rgba(0, 0, 0, 0.3));\n",
              "      fill: #FFFFFF;\n",
              "    }\n",
              "  </style>\n",
              "\n",
              "      <script>\n",
              "        const buttonEl =\n",
              "          document.querySelector('#df-b829c5fd-e2a6-47ef-8357-b61fcbc237d6 button.colab-df-convert');\n",
              "        buttonEl.style.display =\n",
              "          google.colab.kernel.accessAllowed ? 'block' : 'none';\n",
              "\n",
              "        async function convertToInteractive(key) {\n",
              "          const element = document.querySelector('#df-b829c5fd-e2a6-47ef-8357-b61fcbc237d6');\n",
              "          const dataTable =\n",
              "            await google.colab.kernel.invokeFunction('convertToInteractive',\n",
              "                                                     [key], {});\n",
              "          if (!dataTable) return;\n",
              "\n",
              "          const docLinkHtml = 'Like what you see? Visit the ' +\n",
              "            '<a target=\"_blank\" href=https://colab.research.google.com/notebooks/data_table.ipynb>data table notebook</a>'\n",
              "            + ' to learn more about interactive tables.';\n",
              "          element.innerHTML = '';\n",
              "          dataTable['output_type'] = 'display_data';\n",
              "          await google.colab.output.renderOutput(dataTable, element);\n",
              "          const docLink = document.createElement('div');\n",
              "          docLink.innerHTML = docLinkHtml;\n",
              "          element.appendChild(docLink);\n",
              "        }\n",
              "      </script>\n",
              "    </div>\n",
              "  </div>\n",
              "  "
            ],
            "text/plain": [
              "                     start                    end       avg\n",
              "196  +94603-01-01 00:00:00  +94603-01-02 00:00:00  0.000000\n",
              "200    2021-03-20 00:00:00    2021-03-21 00:00:00  0.129431\n",
              "292    2021-03-21 00:00:00    2021-03-22 00:00:00  0.099462\n",
              "296    2021-03-22 00:00:00    2021-03-23 00:00:00  0.108330\n",
              "198    2021-03-23 00:00:00    2021-03-24 00:00:00  0.092393"
            ]
          },
          "metadata": {},
          "execution_count": 19
        }
      ]
    },
    {
      "cell_type": "code",
      "source": [
        "import matplotlib.pyplot as plt\n",
        "import pandas as pd\n",
        "\n",
        "\n",
        "\n",
        "time_series = result_pdf[\"start\"]\n",
        "sentiment_avg = result_pdf[\"avg\"]\n",
        "\n",
        "plt.plot(time_series, sentiment_avg, label=\"sentiment_avg\")\n",
        "plt.title(\"Average sentiment score for each day\")\n",
        "plt.xlabel(\"time_series\")\n",
        "plt.ylabel(\"sentiment_avg\")\n",
        "plt.legend()\n",
        "plt.xticks(rotation=45)\n",
        "\n",
        "plt.show()"
      ],
      "metadata": {
        "colab": {
          "base_uri": "https://localhost:8080/",
          "height": 378
        },
        "id": "BH_TLdo1wO0Y",
        "outputId": "a237478a-fc8e-49fb-9b78-2dd1a2738eca"
      },
      "execution_count": null,
      "outputs": [
        {
          "output_type": "display_data",
          "data": {
            "image/png": "[encoded data removed]",
            "text/plain": [
              "<Figure size 432x288 with 1 Axes>"
            ]
          },
          "metadata": {
            "needs_background": "light"
          }
        }
      ]
    },
    {
      "cell_type": "markdown",
      "source": [
        "## Average sentiment score for each country"
      ],
      "metadata": {
        "id": "oPKF15kDoRN0"
      }
    },
    {
      "cell_type": "code",
      "source": [
        "spark.conf.set(\"spark.sql.execution.arrow.pyspark.enabled\", \"true\")\n",
        "\n",
        "result_pdf= df.groupBy(\"state\").avg(\"sentiment_score\").select(\"*\").toPandas()\n",
        "\n",
        "result_pdf.to_csv('/content/drive/My Drive/big_data/results/avg_score_each_country.csv')  "
      ],
      "metadata": {
        "id": "loU-fA96DkuX"
      },
      "execution_count": null,
      "outputs": []
    },
    {
      "cell_type": "code",
      "source": [
        "result_pdf.head()"
      ],
      "metadata": {
        "colab": {
          "base_uri": "https://localhost:8080/",
          "height": 206
        },
        "id": "4R3NYkzqDkxg",
        "outputId": "ddf109ed-723b-4a45-bc03-72be9bf9bd6e"
      },
      "execution_count": null,
      "outputs": [
        {
          "output_type": "execute_result",
          "data": {
            "text/html": [
              "\n",
              "  <div id=\"df-5d36b355-06fb-454f-b6f3-e04238341781\">\n",
              "    <div class=\"colab-df-container\">\n",
              "      <div>\n",
              "<style scoped>\n",
              "    .dataframe tbody tr th:only-of-type {\n",
              "        vertical-align: middle;\n",
              "    }\n",
              "\n",
              "    .dataframe tbody tr th {\n",
              "        vertical-align: top;\n",
              "    }\n",
              "\n",
              "    .dataframe thead th {\n",
              "        text-align: right;\n",
              "    }\n",
              "</style>\n",
              "<table border=\"1\" class=\"dataframe\">\n",
              "  <thead>\n",
              "    <tr style=\"text-align: right;\">\n",
              "      <th></th>\n",
              "      <th>state</th>\n",
              "      <th>avg(sentiment_score)</th>\n",
              "    </tr>\n",
              "  </thead>\n",
              "  <tbody>\n",
              "    <tr>\n",
              "      <th>0</th>\n",
              "      <td>SC</td>\n",
              "      <td>0.056361</td>\n",
              "    </tr>\n",
              "    <tr>\n",
              "      <th>1</th>\n",
              "      <td>AZ</td>\n",
              "      <td>0.051603</td>\n",
              "    </tr>\n",
              "    <tr>\n",
              "      <th>2</th>\n",
              "      <td>Queens</td>\n",
              "      <td>0.164896</td>\n",
              "    </tr>\n",
              "    <tr>\n",
              "      <th>3</th>\n",
              "      <td>LA</td>\n",
              "      <td>0.066239</td>\n",
              "    </tr>\n",
              "    <tr>\n",
              "      <th>4</th>\n",
              "      <td>Paradise</td>\n",
              "      <td>0.113112</td>\n",
              "    </tr>\n",
              "  </tbody>\n",
              "</table>\n",
              "</div>\n",
              "      <button class=\"colab-df-convert\" onclick=\"convertToInteractive('df-5d36b355-06fb-454f-b6f3-e04238341781')\"\n",
              "              title=\"Convert this dataframe to an interactive table.\"\n",
              "              style=\"display:none;\">\n",
              "        \n",
              "  <svg xmlns=\"http://www.w3.org/2000/svg\" height=\"24px\"viewBox=\"0 0 24 24\"\n",
              "       width=\"24px\">\n",
              "    <path d=\"M0 0h24v24H0V0z\" fill=\"none\"/>\n",
              "    <path d=\"M18.56 5.44l.94 2.06.94-2.06 2.06-.94-2.06-.94-.94-2.06-.94 2.06-2.06.94zm-11 1L8.5 8.5l.94-2.06 2.06-.94-2.06-.94L8.5 2.5l-.94 2.06-2.06.94zm10 10l.94 2.06.94-2.06 2.06-.94-2.06-.94-.94-2.06-.94 2.06-2.06.94z\"/><path d=\"M17.41 7.96l-1.37-1.37c-.4-.4-.92-.59-1.43-.59-.52 0-1.04.2-1.43.59L10.3 9.45l-7.72 7.72c-.78.78-.78 2.05 0 2.83L4 21.41c.39.39.9.59 1.41.59.51 0 1.02-.2 1.41-.59l7.78-7.78 2.81-2.81c.8-.78.8-2.07 0-2.86zM5.41 20L4 18.59l7.72-7.72 1.47 1.35L5.41 20z\"/>\n",
              "  </svg>\n",
              "      </button>\n",
              "      \n",
              "  <style>\n",
              "    .colab-df-container {\n",
              "      display:flex;\n",
              "      flex-wrap:wrap;\n",
              "      gap: 12px;\n",
              "    }\n",
              "\n",
              "    .colab-df-convert {\n",
              "      background-color: #E8F0FE;\n",
              "      border: none;\n",
              "      border-radius: 50%;\n",
              "      cursor: pointer;\n",
              "      display: none;\n",
              "      fill: #1967D2;\n",
              "      height: 32px;\n",
              "      padding: 0 0 0 0;\n",
              "      width: 32px;\n",
              "    }\n",
              "\n",
              "    .colab-df-convert:hover {\n",
              "      background-color: #E2EBFA;\n",
              "      box-shadow: 0px 1px 2px rgba(60, 64, 67, 0.3), 0px 1px 3px 1px rgba(60, 64, 67, 0.15);\n",
              "      fill: #174EA6;\n",
              "    }\n",
              "\n",
              "    [theme=dark] .colab-df-convert {\n",
              "      background-color: #3B4455;\n",
              "      fill: #D2E3FC;\n",
              "    }\n",
              "\n",
              "    [theme=dark] .colab-df-convert:hover {\n",
              "      background-color: #434B5C;\n",
              "      box-shadow: 0px 1px 3px 1px rgba(0, 0, 0, 0.15);\n",
              "      filter: drop-shadow(0px 1px 2px rgba(0, 0, 0, 0.3));\n",
              "      fill: #FFFFFF;\n",
              "    }\n",
              "  </style>\n",
              "\n",
              "      <script>\n",
              "        const buttonEl =\n",
              "          document.querySelector('#df-5d36b355-06fb-454f-b6f3-e04238341781 button.colab-df-convert');\n",
              "        buttonEl.style.display =\n",
              "          google.colab.kernel.accessAllowed ? 'block' : 'none';\n",
              "\n",
              "        async function convertToInteractive(key) {\n",
              "          const element = document.querySelector('#df-5d36b355-06fb-454f-b6f3-e04238341781');\n",
              "          const dataTable =\n",
              "            await google.colab.kernel.invokeFunction('convertToInteractive',\n",
              "                                                     [key], {});\n",
              "          if (!dataTable) return;\n",
              "\n",
              "          const docLinkHtml = 'Like what you see? Visit the ' +\n",
              "            '<a target=\"_blank\" href=https://colab.research.google.com/notebooks/data_table.ipynb>data table notebook</a>'\n",
              "            + ' to learn more about interactive tables.';\n",
              "          element.innerHTML = '';\n",
              "          dataTable['output_type'] = 'display_data';\n",
              "          await google.colab.output.renderOutput(dataTable, element);\n",
              "          const docLink = document.createElement('div');\n",
              "          docLink.innerHTML = docLinkHtml;\n",
              "          element.appendChild(docLink);\n",
              "        }\n",
              "      </script>\n",
              "    </div>\n",
              "  </div>\n",
              "  "
            ],
            "text/plain": [
              "      state  avg(sentiment_score)\n",
              "0        SC              0.056361\n",
              "1        AZ              0.051603\n",
              "2    Queens              0.164896\n",
              "3        LA              0.066239\n",
              "4  Paradise              0.113112"
            ]
          },
          "metadata": {},
          "execution_count": 22
        }
      ]
    },
    {
      "cell_type": "markdown",
      "source": [
        "##  sentiment score for positive/negative/natural label by day(avg)"
      ],
      "metadata": {
        "id": "mlW-tSk9o1jL"
      }
    },
    {
      "cell_type": "code",
      "source": [
        "\n",
        "from pyspark.sql.window import Window\n",
        "import datetime\n",
        "\n",
        "# Positive label\n",
        "w = df.where(df.sentiment_label=='positive').groupBy(window(\"timestamp\", \"1 day\")).agg(avg(\"sentiment_score\").alias(\"avg\"))\n",
        "\n",
        "spark.conf.set(\"spark.sql.execution.arrow.pyspark.enabled\", \"true\")\n",
        "result_pdf=w.select(w.window.start.cast(\"string\").alias(\"start\"), w.window.end.cast(\"string\").alias(\"end\"), \"avg\").select(\"*\").toPandas()\n",
        "\n",
        "\n",
        "#result_pdf[\"start\"]=result_pdf[\"start\"].apply(lambda s: datetime.datetime.strptime(s, '%Y-%m-%d %H:%M:%S'))\n",
        "\n",
        "result_pdf=result_pdf.sort_values(by=\"start\")\n",
        "result_pdf.to_csv('/content/drive/My Drive/big_data/results/positive_score_by__day.csv')  "
      ],
      "metadata": {
        "id": "k9ja00WwFEUP"
      },
      "execution_count": null,
      "outputs": []
    },
    {
      "cell_type": "code",
      "source": [
        "# Positive label\n",
        "w = df.where(df.sentiment_label=='negative').groupBy(window(\"timestamp\", \"1 day\")).agg(avg(\"sentiment_score\").alias(\"avg\"))\n",
        "\n",
        "spark.conf.set(\"spark.sql.execution.arrow.pyspark.enabled\", \"true\")\n",
        "result_pdf=w.select(w.window.start.cast(\"string\").alias(\"start\"), w.window.end.cast(\"string\").alias(\"end\"), \"avg\").select(\"*\").toPandas()\n",
        "\n",
        "\n",
        "#result_pdf[\"start\"]=result_pdf[\"start\"].apply(lambda s: datetime.datetime.strptime(s, '%Y-%m-%d %H:%M:%S'))\n",
        "\n",
        "result_pdf=result_pdf.sort_values(by=\"start\")\n",
        "result_pdf.to_csv('/content/drive/My Drive/big_data/results/negative_score_by__day.csv')  "
      ],
      "metadata": {
        "id": "-tKRan9kF7VC"
      },
      "execution_count": null,
      "outputs": []
    },
    {
      "cell_type": "code",
      "source": [
        "# Natural label\n",
        "w = df.where(df.sentiment_label=='natural').groupBy(window(\"timestamp\", \"1 day\")).agg(avg(\"sentiment_score\").alias(\"avg\"))\n",
        "\n",
        "spark.conf.set(\"spark.sql.execution.arrow.pyspark.enabled\", \"true\")\n",
        "result_pdf=w.select(w.window.start.cast(\"string\").alias(\"start\"), w.window.end.cast(\"string\").alias(\"end\"), \"avg\").select(\"*\").toPandas()\n",
        "\n",
        "\n",
        "#result_pdf[\"start\"]=result_pdf[\"start\"].apply(lambda s: datetime.datetime.strptime(s, '%Y-%m-%d %H:%M:%S'))\n",
        "\n",
        "result_pdf=result_pdf.sort_values(by=\"start\")\n",
        "result_pdf.to_csv('/content/drive/My Drive/big_data/results/natural_score_by__day.csv')  "
      ],
      "metadata": {
        "id": "4avfgCuZdl8u"
      },
      "execution_count": null,
      "outputs": []
    },
    {
      "cell_type": "code",
      "source": [
        "result_pdf.head()"
      ],
      "metadata": {
        "colab": {
          "base_uri": "https://localhost:8080/",
          "height": 49
        },
        "id": "fhr5eVu9jORx",
        "outputId": "9a72178e-50eb-497d-b2db-fd6733ba663f"
      },
      "execution_count": null,
      "outputs": [
        {
          "output_type": "execute_result",
          "data": {
            "text/html": [
              "\n",
              "  <div id=\"df-1278efad-70bc-44c4-b1f4-90da8510cefd\">\n",
              "    <div class=\"colab-df-container\">\n",
              "      <div>\n",
              "<style scoped>\n",
              "    .dataframe tbody tr th:only-of-type {\n",
              "        vertical-align: middle;\n",
              "    }\n",
              "\n",
              "    .dataframe tbody tr th {\n",
              "        vertical-align: top;\n",
              "    }\n",
              "\n",
              "    .dataframe thead th {\n",
              "        text-align: right;\n",
              "    }\n",
              "</style>\n",
              "<table border=\"1\" class=\"dataframe\">\n",
              "  <thead>\n",
              "    <tr style=\"text-align: right;\">\n",
              "      <th></th>\n",
              "      <th>start</th>\n",
              "      <th>end</th>\n",
              "      <th>avg</th>\n",
              "    </tr>\n",
              "  </thead>\n",
              "  <tbody>\n",
              "  </tbody>\n",
              "</table>\n",
              "</div>\n",
              "      <button class=\"colab-df-convert\" onclick=\"convertToInteractive('df-1278efad-70bc-44c4-b1f4-90da8510cefd')\"\n",
              "              title=\"Convert this dataframe to an interactive table.\"\n",
              "              style=\"display:none;\">\n",
              "        \n",
              "  <svg xmlns=\"http://www.w3.org/2000/svg\" height=\"24px\"viewBox=\"0 0 24 24\"\n",
              "       width=\"24px\">\n",
              "    <path d=\"M0 0h24v24H0V0z\" fill=\"none\"/>\n",
              "    <path d=\"M18.56 5.44l.94 2.06.94-2.06 2.06-.94-2.06-.94-.94-2.06-.94 2.06-2.06.94zm-11 1L8.5 8.5l.94-2.06 2.06-.94-2.06-.94L8.5 2.5l-.94 2.06-2.06.94zm10 10l.94 2.06.94-2.06 2.06-.94-2.06-.94-.94-2.06-.94 2.06-2.06.94z\"/><path d=\"M17.41 7.96l-1.37-1.37c-.4-.4-.92-.59-1.43-.59-.52 0-1.04.2-1.43.59L10.3 9.45l-7.72 7.72c-.78.78-.78 2.05 0 2.83L4 21.41c.39.39.9.59 1.41.59.51 0 1.02-.2 1.41-.59l7.78-7.78 2.81-2.81c.8-.78.8-2.07 0-2.86zM5.41 20L4 18.59l7.72-7.72 1.47 1.35L5.41 20z\"/>\n",
              "  </svg>\n",
              "      </button>\n",
              "      \n",
              "  <style>\n",
              "    .colab-df-container {\n",
              "      display:flex;\n",
              "      flex-wrap:wrap;\n",
              "      gap: 12px;\n",
              "    }\n",
              "\n",
              "    .colab-df-convert {\n",
              "      background-color: #E8F0FE;\n",
              "      border: none;\n",
              "      border-radius: 50%;\n",
              "      cursor: pointer;\n",
              "      display: none;\n",
              "      fill: #1967D2;\n",
              "      height: 32px;\n",
              "      padding: 0 0 0 0;\n",
              "      width: 32px;\n",
              "    }\n",
              "\n",
              "    .colab-df-convert:hover {\n",
              "      background-color: #E2EBFA;\n",
              "      box-shadow: 0px 1px 2px rgba(60, 64, 67, 0.3), 0px 1px 3px 1px rgba(60, 64, 67, 0.15);\n",
              "      fill: #174EA6;\n",
              "    }\n",
              "\n",
              "    [theme=dark] .colab-df-convert {\n",
              "      background-color: #3B4455;\n",
              "      fill: #D2E3FC;\n",
              "    }\n",
              "\n",
              "    [theme=dark] .colab-df-convert:hover {\n",
              "      background-color: #434B5C;\n",
              "      box-shadow: 0px 1px 3px 1px rgba(0, 0, 0, 0.15);\n",
              "      filter: drop-shadow(0px 1px 2px rgba(0, 0, 0, 0.3));\n",
              "      fill: #FFFFFF;\n",
              "    }\n",
              "  </style>\n",
              "\n",
              "      <script>\n",
              "        const buttonEl =\n",
              "          document.querySelector('#df-1278efad-70bc-44c4-b1f4-90da8510cefd button.colab-df-convert');\n",
              "        buttonEl.style.display =\n",
              "          google.colab.kernel.accessAllowed ? 'block' : 'none';\n",
              "\n",
              "        async function convertToInteractive(key) {\n",
              "          const element = document.querySelector('#df-1278efad-70bc-44c4-b1f4-90da8510cefd');\n",
              "          const dataTable =\n",
              "            await google.colab.kernel.invokeFunction('convertToInteractive',\n",
              "                                                     [key], {});\n",
              "          if (!dataTable) return;\n",
              "\n",
              "          const docLinkHtml = 'Like what you see? Visit the ' +\n",
              "            '<a target=\"_blank\" href=https://colab.research.google.com/notebooks/data_table.ipynb>data table notebook</a>'\n",
              "            + ' to learn more about interactive tables.';\n",
              "          element.innerHTML = '';\n",
              "          dataTable['output_type'] = 'display_data';\n",
              "          await google.colab.output.renderOutput(dataTable, element);\n",
              "          const docLink = document.createElement('div');\n",
              "          docLink.innerHTML = docLinkHtml;\n",
              "          element.appendChild(docLink);\n",
              "        }\n",
              "      </script>\n",
              "    </div>\n",
              "  </div>\n",
              "  "
            ],
            "text/plain": [
              "Empty DataFrame\n",
              "Columns: [start, end, avg]\n",
              "Index: []"
            ]
          },
          "metadata": {},
          "execution_count": 26
        }
      ]
    },
    {
      "cell_type": "markdown",
      "source": [
        "##  Count of tweets in each country"
      ],
      "metadata": {
        "id": "9vX6n8WKo1pf"
      }
    },
    {
      "cell_type": "code",
      "source": [
        "spark.conf.set(\"spark.sql.execution.arrow.pyspark.enabled\", \"true\")\n",
        "result_pdf= df.groupBy(\"state\").count().select(\"*\").toPandas()\n",
        "result_pdf.to_csv('/content/drive/My Drive/big_data/results/count_of_country.csv')  "
      ],
      "metadata": {
        "id": "vKwt2vVVdvHR"
      },
      "execution_count": null,
      "outputs": []
    },
    {
      "cell_type": "code",
      "source": [
        "result_pdf.head()"
      ],
      "metadata": {
        "colab": {
          "base_uri": "https://localhost:8080/",
          "height": 206
        },
        "id": "WrUgyMqDjPXc",
        "outputId": "14d03d3f-1681-46e7-d4b0-58a2cb28830e"
      },
      "execution_count": null,
      "outputs": [
        {
          "output_type": "execute_result",
          "data": {
            "text/html": [
              "\n",
              "  <div id=\"df-8895938b-fb93-4efe-86f8-3873a1caddfd\">\n",
              "    <div class=\"colab-df-container\">\n",
              "      <div>\n",
              "<style scoped>\n",
              "    .dataframe tbody tr th:only-of-type {\n",
              "        vertical-align: middle;\n",
              "    }\n",
              "\n",
              "    .dataframe tbody tr th {\n",
              "        vertical-align: top;\n",
              "    }\n",
              "\n",
              "    .dataframe thead th {\n",
              "        text-align: right;\n",
              "    }\n",
              "</style>\n",
              "<table border=\"1\" class=\"dataframe\">\n",
              "  <thead>\n",
              "    <tr style=\"text-align: right;\">\n",
              "      <th></th>\n",
              "      <th>state</th>\n",
              "      <th>count</th>\n",
              "    </tr>\n",
              "  </thead>\n",
              "  <tbody>\n",
              "    <tr>\n",
              "      <th>0</th>\n",
              "      <td>SC</td>\n",
              "      <td>4746</td>\n",
              "    </tr>\n",
              "    <tr>\n",
              "      <th>1</th>\n",
              "      <td>AZ</td>\n",
              "      <td>14682</td>\n",
              "    </tr>\n",
              "    <tr>\n",
              "      <th>2</th>\n",
              "      <td>Queens</td>\n",
              "      <td>25</td>\n",
              "    </tr>\n",
              "    <tr>\n",
              "      <th>3</th>\n",
              "      <td>LA</td>\n",
              "      <td>8010</td>\n",
              "    </tr>\n",
              "    <tr>\n",
              "      <th>4</th>\n",
              "      <td>Paradise</td>\n",
              "      <td>13</td>\n",
              "    </tr>\n",
              "  </tbody>\n",
              "</table>\n",
              "</div>\n",
              "      <button class=\"colab-df-convert\" onclick=\"convertToInteractive('df-8895938b-fb93-4efe-86f8-3873a1caddfd')\"\n",
              "              title=\"Convert this dataframe to an interactive table.\"\n",
              "              style=\"display:none;\">\n",
              "        \n",
              "  <svg xmlns=\"http://www.w3.org/2000/svg\" height=\"24px\"viewBox=\"0 0 24 24\"\n",
              "       width=\"24px\">\n",
              "    <path d=\"M0 0h24v24H0V0z\" fill=\"none\"/>\n",
              "    <path d=\"M18.56 5.44l.94 2.06.94-2.06 2.06-.94-2.06-.94-.94-2.06-.94 2.06-2.06.94zm-11 1L8.5 8.5l.94-2.06 2.06-.94-2.06-.94L8.5 2.5l-.94 2.06-2.06.94zm10 10l.94 2.06.94-2.06 2.06-.94-2.06-.94-.94-2.06-.94 2.06-2.06.94z\"/><path d=\"M17.41 7.96l-1.37-1.37c-.4-.4-.92-.59-1.43-.59-.52 0-1.04.2-1.43.59L10.3 9.45l-7.72 7.72c-.78.78-.78 2.05 0 2.83L4 21.41c.39.39.9.59 1.41.59.51 0 1.02-.2 1.41-.59l7.78-7.78 2.81-2.81c.8-.78.8-2.07 0-2.86zM5.41 20L4 18.59l7.72-7.72 1.47 1.35L5.41 20z\"/>\n",
              "  </svg>\n",
              "      </button>\n",
              "      \n",
              "  <style>\n",
              "    .colab-df-container {\n",
              "      display:flex;\n",
              "      flex-wrap:wrap;\n",
              "      gap: 12px;\n",
              "    }\n",
              "\n",
              "    .colab-df-convert {\n",
              "      background-color: #E8F0FE;\n",
              "      border: none;\n",
              "      border-radius: 50%;\n",
              "      cursor: pointer;\n",
              "      display: none;\n",
              "      fill: #1967D2;\n",
              "      height: 32px;\n",
              "      padding: 0 0 0 0;\n",
              "      width: 32px;\n",
              "    }\n",
              "\n",
              "    .colab-df-convert:hover {\n",
              "      background-color: #E2EBFA;\n",
              "      box-shadow: 0px 1px 2px rgba(60, 64, 67, 0.3), 0px 1px 3px 1px rgba(60, 64, 67, 0.15);\n",
              "      fill: #174EA6;\n",
              "    }\n",
              "\n",
              "    [theme=dark] .colab-df-convert {\n",
              "      background-color: #3B4455;\n",
              "      fill: #D2E3FC;\n",
              "    }\n",
              "\n",
              "    [theme=dark] .colab-df-convert:hover {\n",
              "      background-color: #434B5C;\n",
              "      box-shadow: 0px 1px 3px 1px rgba(0, 0, 0, 0.15);\n",
              "      filter: drop-shadow(0px 1px 2px rgba(0, 0, 0, 0.3));\n",
              "      fill: #FFFFFF;\n",
              "    }\n",
              "  </style>\n",
              "\n",
              "      <script>\n",
              "        const buttonEl =\n",
              "          document.querySelector('#df-8895938b-fb93-4efe-86f8-3873a1caddfd button.colab-df-convert');\n",
              "        buttonEl.style.display =\n",
              "          google.colab.kernel.accessAllowed ? 'block' : 'none';\n",
              "\n",
              "        async function convertToInteractive(key) {\n",
              "          const element = document.querySelector('#df-8895938b-fb93-4efe-86f8-3873a1caddfd');\n",
              "          const dataTable =\n",
              "            await google.colab.kernel.invokeFunction('convertToInteractive',\n",
              "                                                     [key], {});\n",
              "          if (!dataTable) return;\n",
              "\n",
              "          const docLinkHtml = 'Like what you see? Visit the ' +\n",
              "            '<a target=\"_blank\" href=https://colab.research.google.com/notebooks/data_table.ipynb>data table notebook</a>'\n",
              "            + ' to learn more about interactive tables.';\n",
              "          element.innerHTML = '';\n",
              "          dataTable['output_type'] = 'display_data';\n",
              "          await google.colab.output.renderOutput(dataTable, element);\n",
              "          const docLink = document.createElement('div');\n",
              "          docLink.innerHTML = docLinkHtml;\n",
              "          element.appendChild(docLink);\n",
              "        }\n",
              "      </script>\n",
              "    </div>\n",
              "  </div>\n",
              "  "
            ],
            "text/plain": [
              "      state  count\n",
              "0        SC   4746\n",
              "1        AZ  14682\n",
              "2    Queens     25\n",
              "3        LA   8010\n",
              "4  Paradise     13"
            ]
          },
          "metadata": {},
          "execution_count": 28
        }
      ]
    },
    {
      "cell_type": "markdown",
      "source": [
        "##  Count of tweets by day(avg)"
      ],
      "metadata": {
        "id": "hbNC6G7lo12l"
      }
    },
    {
      "cell_type": "code",
      "source": [
        "# Natural label\n",
        "w = df.groupBy(window(\"timestamp\", \"1 day\")).count().alias(\"count\")\n",
        "\n",
        "spark.conf.set(\"spark.sql.execution.arrow.pyspark.enabled\", \"true\")\n",
        "result_pdf=w.select(w.window.start.cast(\"string\").alias(\"start\"), w.window.end.cast(\"string\").alias(\"end\"), \"count\").select(\"*\").toPandas()\n",
        "\n",
        "\n",
        "#result_pdf[\"start\"]=result_pdf[\"start\"].apply(lambda s: datetime.datetime.strptime(s, '%Y-%m-%d %H:%M:%S'))\n",
        "\n",
        "result_pdf=result_pdf.sort_values(by=\"start\")\n",
        "result_pdf.to_csv('/content/drive/My Drive/big_data/results/count_of_day.csv')  "
      ],
      "metadata": {
        "id": "DyBJGLZXkQRv"
      },
      "execution_count": null,
      "outputs": []
    },
    {
      "cell_type": "code",
      "source": [
        "result_pdf.head()"
      ],
      "metadata": {
        "colab": {
          "base_uri": "https://localhost:8080/",
          "height": 206
        },
        "id": "HI4999k9jQDF",
        "outputId": "70c3498d-bcba-4916-ebef-1fc1ee6a04fb"
      },
      "execution_count": null,
      "outputs": [
        {
          "output_type": "execute_result",
          "data": {
            "text/html": [
              "\n",
              "  <div id=\"df-a62424d9-36c0-43ed-ae2f-5fdbc01d4730\">\n",
              "    <div class=\"colab-df-container\">\n",
              "      <div>\n",
              "<style scoped>\n",
              "    .dataframe tbody tr th:only-of-type {\n",
              "        vertical-align: middle;\n",
              "    }\n",
              "\n",
              "    .dataframe tbody tr th {\n",
              "        vertical-align: top;\n",
              "    }\n",
              "\n",
              "    .dataframe thead th {\n",
              "        text-align: right;\n",
              "    }\n",
              "</style>\n",
              "<table border=\"1\" class=\"dataframe\">\n",
              "  <thead>\n",
              "    <tr style=\"text-align: right;\">\n",
              "      <th></th>\n",
              "      <th>start</th>\n",
              "      <th>end</th>\n",
              "      <th>count</th>\n",
              "    </tr>\n",
              "  </thead>\n",
              "  <tbody>\n",
              "    <tr>\n",
              "      <th>196</th>\n",
              "      <td>+94603-01-01 00:00:00</td>\n",
              "      <td>+94603-01-02 00:00:00</td>\n",
              "      <td>1</td>\n",
              "    </tr>\n",
              "    <tr>\n",
              "      <th>200</th>\n",
              "      <td>2021-03-20 00:00:00</td>\n",
              "      <td>2021-03-21 00:00:00</td>\n",
              "      <td>101</td>\n",
              "    </tr>\n",
              "    <tr>\n",
              "      <th>292</th>\n",
              "      <td>2021-03-21 00:00:00</td>\n",
              "      <td>2021-03-22 00:00:00</td>\n",
              "      <td>2334</td>\n",
              "    </tr>\n",
              "    <tr>\n",
              "      <th>296</th>\n",
              "      <td>2021-03-22 00:00:00</td>\n",
              "      <td>2021-03-23 00:00:00</td>\n",
              "      <td>3247</td>\n",
              "    </tr>\n",
              "    <tr>\n",
              "      <th>198</th>\n",
              "      <td>2021-03-23 00:00:00</td>\n",
              "      <td>2021-03-24 00:00:00</td>\n",
              "      <td>3266</td>\n",
              "    </tr>\n",
              "  </tbody>\n",
              "</table>\n",
              "</div>\n",
              "      <button class=\"colab-df-convert\" onclick=\"convertToInteractive('df-a62424d9-36c0-43ed-ae2f-5fdbc01d4730')\"\n",
              "              title=\"Convert this dataframe to an interactive table.\"\n",
              "              style=\"display:none;\">\n",
              "        \n",
              "  <svg xmlns=\"http://www.w3.org/2000/svg\" height=\"24px\"viewBox=\"0 0 24 24\"\n",
              "       width=\"24px\">\n",
              "    <path d=\"M0 0h24v24H0V0z\" fill=\"none\"/>\n",
              "    <path d=\"M18.56 5.44l.94 2.06.94-2.06 2.06-.94-2.06-.94-.94-2.06-.94 2.06-2.06.94zm-11 1L8.5 8.5l.94-2.06 2.06-.94-2.06-.94L8.5 2.5l-.94 2.06-2.06.94zm10 10l.94 2.06.94-2.06 2.06-.94-2.06-.94-.94-2.06-.94 2.06-2.06.94z\"/><path d=\"M17.41 7.96l-1.37-1.37c-.4-.4-.92-.59-1.43-.59-.52 0-1.04.2-1.43.59L10.3 9.45l-7.72 7.72c-.78.78-.78 2.05 0 2.83L4 21.41c.39.39.9.59 1.41.59.51 0 1.02-.2 1.41-.59l7.78-7.78 2.81-2.81c.8-.78.8-2.07 0-2.86zM5.41 20L4 18.59l7.72-7.72 1.47 1.35L5.41 20z\"/>\n",
              "  </svg>\n",
              "      </button>\n",
              "      \n",
              "  <style>\n",
              "    .colab-df-container {\n",
              "      display:flex;\n",
              "      flex-wrap:wrap;\n",
              "      gap: 12px;\n",
              "    }\n",
              "\n",
              "    .colab-df-convert {\n",
              "      background-color: #E8F0FE;\n",
              "      border: none;\n",
              "      border-radius: 50%;\n",
              "      cursor: pointer;\n",
              "      display: none;\n",
              "      fill: #1967D2;\n",
              "      height: 32px;\n",
              "      padding: 0 0 0 0;\n",
              "      width: 32px;\n",
              "    }\n",
              "\n",
              "    .colab-df-convert:hover {\n",
              "      background-color: #E2EBFA;\n",
              "      box-shadow: 0px 1px 2px rgba(60, 64, 67, 0.3), 0px 1px 3px 1px rgba(60, 64, 67, 0.15);\n",
              "      fill: #174EA6;\n",
              "    }\n",
              "\n",
              "    [theme=dark] .colab-df-convert {\n",
              "      background-color: #3B4455;\n",
              "      fill: #D2E3FC;\n",
              "    }\n",
              "\n",
              "    [theme=dark] .colab-df-convert:hover {\n",
              "      background-color: #434B5C;\n",
              "      box-shadow: 0px 1px 3px 1px rgba(0, 0, 0, 0.15);\n",
              "      filter: drop-shadow(0px 1px 2px rgba(0, 0, 0, 0.3));\n",
              "      fill: #FFFFFF;\n",
              "    }\n",
              "  </style>\n",
              "\n",
              "      <script>\n",
              "        const buttonEl =\n",
              "          document.querySelector('#df-a62424d9-36c0-43ed-ae2f-5fdbc01d4730 button.colab-df-convert');\n",
              "        buttonEl.style.display =\n",
              "          google.colab.kernel.accessAllowed ? 'block' : 'none';\n",
              "\n",
              "        async function convertToInteractive(key) {\n",
              "          const element = document.querySelector('#df-a62424d9-36c0-43ed-ae2f-5fdbc01d4730');\n",
              "          const dataTable =\n",
              "            await google.colab.kernel.invokeFunction('convertToInteractive',\n",
              "                                                     [key], {});\n",
              "          if (!dataTable) return;\n",
              "\n",
              "          const docLinkHtml = 'Like what you see? Visit the ' +\n",
              "            '<a target=\"_blank\" href=https://colab.research.google.com/notebooks/data_table.ipynb>data table notebook</a>'\n",
              "            + ' to learn more about interactive tables.';\n",
              "          element.innerHTML = '';\n",
              "          dataTable['output_type'] = 'display_data';\n",
              "          await google.colab.output.renderOutput(dataTable, element);\n",
              "          const docLink = document.createElement('div');\n",
              "          docLink.innerHTML = docLinkHtml;\n",
              "          element.appendChild(docLink);\n",
              "        }\n",
              "      </script>\n",
              "    </div>\n",
              "  </div>\n",
              "  "
            ],
            "text/plain": [
              "                     start                    end  count\n",
              "196  +94603-01-01 00:00:00  +94603-01-02 00:00:00      1\n",
              "200    2021-03-20 00:00:00    2021-03-21 00:00:00    101\n",
              "292    2021-03-21 00:00:00    2021-03-22 00:00:00   2334\n",
              "296    2021-03-22 00:00:00    2021-03-23 00:00:00   3247\n",
              "198    2021-03-23 00:00:00    2021-03-24 00:00:00   3266"
            ]
          },
          "metadata": {},
          "execution_count": 30
        }
      ]
    },
    {
      "cell_type": "markdown",
      "source": [
        "##  Count of likes for psitive/negative tweets"
      ],
      "metadata": {
        "id": "v5krIhOMptSZ"
      }
    },
    {
      "cell_type": "code",
      "source": [
        "# Positive likes\n",
        "result_pdf= df.where(df.sentiment_label=='positive').agg(sum(\"like_count\").alias(\"sum\")).select(\"*\").toPandas()\n",
        "result_pdf.to_csv('/content/drive/My Drive/big_data/count_likes_positive.csv')  "
      ],
      "metadata": {
        "id": "jQ6z7aMZff_c"
      },
      "execution_count": null,
      "outputs": []
    },
    {
      "cell_type": "code",
      "source": [
        "# Nositive likes\n",
        "result_pdf= df.where(df.sentiment_label=='negative').agg(sum(\"like_count\").alias(\"sum\")).select(\"*\").toPandas()\n",
        "result_pdf.to_csv('/content/drive/My Drive/big_data/count_likes_negative.csv')  "
      ],
      "metadata": {
        "id": "pVptF5JOgRky"
      },
      "execution_count": null,
      "outputs": []
    },
    {
      "cell_type": "code",
      "source": [
        "result_pdf.head()"
      ],
      "metadata": {
        "colab": {
          "base_uri": "https://localhost:8080/",
          "height": 80
        },
        "id": "ighHREgljRIc",
        "outputId": "15cd4fc1-ae0e-42bc-8b8c-175d8a47a73c"
      },
      "execution_count": null,
      "outputs": [
        {
          "output_type": "execute_result",
          "data": {
            "text/html": [
              "\n",
              "  <div id=\"df-be6f4bbd-3c62-4137-a34d-ab05d25e1d5d\">\n",
              "    <div class=\"colab-df-container\">\n",
              "      <div>\n",
              "<style scoped>\n",
              "    .dataframe tbody tr th:only-of-type {\n",
              "        vertical-align: middle;\n",
              "    }\n",
              "\n",
              "    .dataframe tbody tr th {\n",
              "        vertical-align: top;\n",
              "    }\n",
              "\n",
              "    .dataframe thead th {\n",
              "        text-align: right;\n",
              "    }\n",
              "</style>\n",
              "<table border=\"1\" class=\"dataframe\">\n",
              "  <thead>\n",
              "    <tr style=\"text-align: right;\">\n",
              "      <th></th>\n",
              "      <th>sum</th>\n",
              "    </tr>\n",
              "  </thead>\n",
              "  <tbody>\n",
              "    <tr>\n",
              "      <th>0</th>\n",
              "      <td>1837329.0</td>\n",
              "    </tr>\n",
              "  </tbody>\n",
              "</table>\n",
              "</div>\n",
              "      <button class=\"colab-df-convert\" onclick=\"convertToInteractive('df-be6f4bbd-3c62-4137-a34d-ab05d25e1d5d')\"\n",
              "              title=\"Convert this dataframe to an interactive table.\"\n",
              "              style=\"display:none;\">\n",
              "        \n",
              "  <svg xmlns=\"http://www.w3.org/2000/svg\" height=\"24px\"viewBox=\"0 0 24 24\"\n",
              "       width=\"24px\">\n",
              "    <path d=\"M0 0h24v24H0V0z\" fill=\"none\"/>\n",
              "    <path d=\"M18.56 5.44l.94 2.06.94-2.06 2.06-.94-2.06-.94-.94-2.06-.94 2.06-2.06.94zm-11 1L8.5 8.5l.94-2.06 2.06-.94-2.06-.94L8.5 2.5l-.94 2.06-2.06.94zm10 10l.94 2.06.94-2.06 2.06-.94-2.06-.94-.94-2.06-.94 2.06-2.06.94z\"/><path d=\"M17.41 7.96l-1.37-1.37c-.4-.4-.92-.59-1.43-.59-.52 0-1.04.2-1.43.59L10.3 9.45l-7.72 7.72c-.78.78-.78 2.05 0 2.83L4 21.41c.39.39.9.59 1.41.59.51 0 1.02-.2 1.41-.59l7.78-7.78 2.81-2.81c.8-.78.8-2.07 0-2.86zM5.41 20L4 18.59l7.72-7.72 1.47 1.35L5.41 20z\"/>\n",
              "  </svg>\n",
              "      </button>\n",
              "      \n",
              "  <style>\n",
              "    .colab-df-container {\n",
              "      display:flex;\n",
              "      flex-wrap:wrap;\n",
              "      gap: 12px;\n",
              "    }\n",
              "\n",
              "    .colab-df-convert {\n",
              "      background-color: #E8F0FE;\n",
              "      border: none;\n",
              "      border-radius: 50%;\n",
              "      cursor: pointer;\n",
              "      display: none;\n",
              "      fill: #1967D2;\n",
              "      height: 32px;\n",
              "      padding: 0 0 0 0;\n",
              "      width: 32px;\n",
              "    }\n",
              "\n",
              "    .colab-df-convert:hover {\n",
              "      background-color: #E2EBFA;\n",
              "      box-shadow: 0px 1px 2px rgba(60, 64, 67, 0.3), 0px 1px 3px 1px rgba(60, 64, 67, 0.15);\n",
              "      fill: #174EA6;\n",
              "    }\n",
              "\n",
              "    [theme=dark] .colab-df-convert {\n",
              "      background-color: #3B4455;\n",
              "      fill: #D2E3FC;\n",
              "    }\n",
              "\n",
              "    [theme=dark] .colab-df-convert:hover {\n",
              "      background-color: #434B5C;\n",
              "      box-shadow: 0px 1px 3px 1px rgba(0, 0, 0, 0.15);\n",
              "      filter: drop-shadow(0px 1px 2px rgba(0, 0, 0, 0.3));\n",
              "      fill: #FFFFFF;\n",
              "    }\n",
              "  </style>\n",
              "\n",
              "      <script>\n",
              "        const buttonEl =\n",
              "          document.querySelector('#df-be6f4bbd-3c62-4137-a34d-ab05d25e1d5d button.colab-df-convert');\n",
              "        buttonEl.style.display =\n",
              "          google.colab.kernel.accessAllowed ? 'block' : 'none';\n",
              "\n",
              "        async function convertToInteractive(key) {\n",
              "          const element = document.querySelector('#df-be6f4bbd-3c62-4137-a34d-ab05d25e1d5d');\n",
              "          const dataTable =\n",
              "            await google.colab.kernel.invokeFunction('convertToInteractive',\n",
              "                                                     [key], {});\n",
              "          if (!dataTable) return;\n",
              "\n",
              "          const docLinkHtml = 'Like what you see? Visit the ' +\n",
              "            '<a target=\"_blank\" href=https://colab.research.google.com/notebooks/data_table.ipynb>data table notebook</a>'\n",
              "            + ' to learn more about interactive tables.';\n",
              "          element.innerHTML = '';\n",
              "          dataTable['output_type'] = 'display_data';\n",
              "          await google.colab.output.renderOutput(dataTable, element);\n",
              "          const docLink = document.createElement('div');\n",
              "          docLink.innerHTML = docLinkHtml;\n",
              "          element.appendChild(docLink);\n",
              "        }\n",
              "      </script>\n",
              "    </div>\n",
              "  </div>\n",
              "  "
            ],
            "text/plain": [
              "         sum\n",
              "0  1837329.0"
            ]
          },
          "metadata": {},
          "execution_count": 33
        }
      ]
    },
    {
      "cell_type": "markdown",
      "source": [
        "##  Average sentiment score for Moderna or Pfizer"
      ],
      "metadata": {
        "id": "3N8BbK6hp4Of"
      }
    },
    {
      "cell_type": "code",
      "source": [
        "def moderna_pfizer(text):\n",
        "  if \"pfizer\" in text:\n",
        "    return \"pfizer\"\n",
        "  else:\n",
        "    return \"moderna\"\n",
        "\n",
        "pfizer_moderna_udf = udf(moderna_pfizer , StringType())\n",
        "\n",
        "df  = df.withColumn(\"pfizer_moderna\", pfizer_moderna_udf( df['tweet'] ))"
      ],
      "metadata": {
        "id": "82R1LYG_ghCI"
      },
      "execution_count": null,
      "outputs": []
    },
    {
      "cell_type": "code",
      "source": [
        "\n",
        "from pyspark.sql.window import Window\n",
        "import datetime\n",
        "\n",
        "# Pfizer\n",
        "w = df.where(df.pfizer_moderna=='pfizer').groupBy(window(\"timestamp\", \"7 day\")).agg(avg(\"sentiment_score\").alias(\"avg\"))\n",
        "\n",
        "spark.conf.set(\"spark.sql.execution.arrow.pyspark.enabled\", \"true\")\n",
        "result_pdf=w.select(w.window.start.cast(\"string\").alias(\"start\"), w.window.end.cast(\"string\").alias(\"end\"), \"avg\").select(\"*\").toPandas()\n",
        "\n",
        "\n",
        "#result_pdf[\"start\"]=result_pdf[\"start\"].apply(lambda s: datetime.datetime.strptime(s, '%Y-%m-%d %H:%M:%S'))\n",
        "\n",
        "result_pdf=result_pdf.sort_values(by=\"start\")\n",
        "result_pdf.to_csv('/content/drive/My Drive/big_data/results/pfizer.csv')  "
      ],
      "metadata": {
        "id": "4iradZkphnpW"
      },
      "execution_count": null,
      "outputs": []
    },
    {
      "cell_type": "code",
      "source": [
        "# Moderna\n",
        "w = df.where(df.pfizer_moderna=='moderna').groupBy(window(\"timestamp\", \"7 day\")).agg(avg(\"sentiment_score\").alias(\"avg\"))\n",
        "\n",
        "spark.conf.set(\"spark.sql.execution.arrow.pyspark.enabled\", \"true\")\n",
        "result_pdf=w.select(w.window.start.cast(\"string\").alias(\"start\"), w.window.end.cast(\"string\").alias(\"end\"), \"avg\").select(\"*\").toPandas()\n",
        "\n",
        "\n",
        "#result_pdf[\"start\"]=result_pdf[\"start\"].apply(lambda s: datetime.datetime.strptime(s, '%Y-%m-%d %H:%M:%S'))\n",
        "\n",
        "result_pdf=result_pdf.sort_values(by=\"start\")\n",
        "result_pdf.to_csv('/content/drive/My Drive/big_data/results/moderna.csv')  "
      ],
      "metadata": {
        "id": "nR1niRVbiFJH"
      },
      "execution_count": null,
      "outputs": []
    },
    {
      "cell_type": "code",
      "source": [
        "result_pdf.head()"
      ],
      "metadata": {
        "colab": {
          "base_uri": "https://localhost:8080/",
          "height": 206
        },
        "id": "1E-h7BYBjSh4",
        "outputId": "c6bf5463-1196-42e5-bbe5-5d84e969217b"
      },
      "execution_count": null,
      "outputs": [
        {
          "output_type": "execute_result",
          "data": {
            "text/html": [
              "\n",
              "  <div id=\"df-e7079caf-c565-480f-98ff-35c55f6a20a9\">\n",
              "    <div class=\"colab-df-container\">\n",
              "      <div>\n",
              "<style scoped>\n",
              "    .dataframe tbody tr th:only-of-type {\n",
              "        vertical-align: middle;\n",
              "    }\n",
              "\n",
              "    .dataframe tbody tr th {\n",
              "        vertical-align: top;\n",
              "    }\n",
              "\n",
              "    .dataframe thead th {\n",
              "        text-align: right;\n",
              "    }\n",
              "</style>\n",
              "<table border=\"1\" class=\"dataframe\">\n",
              "  <thead>\n",
              "    <tr style=\"text-align: right;\">\n",
              "      <th></th>\n",
              "      <th>start</th>\n",
              "      <th>end</th>\n",
              "      <th>avg</th>\n",
              "    </tr>\n",
              "  </thead>\n",
              "  <tbody>\n",
              "    <tr>\n",
              "      <th>29</th>\n",
              "      <td>+94602-12-30 00:00:00</td>\n",
              "      <td>+94603-01-06 00:00:00</td>\n",
              "      <td>0.000000</td>\n",
              "    </tr>\n",
              "    <tr>\n",
              "      <th>30</th>\n",
              "      <td>2021-03-18 00:00:00</td>\n",
              "      <td>2021-03-25 00:00:00</td>\n",
              "      <td>0.100644</td>\n",
              "    </tr>\n",
              "    <tr>\n",
              "      <th>40</th>\n",
              "      <td>2021-03-25 00:00:00</td>\n",
              "      <td>2021-04-01 00:00:00</td>\n",
              "      <td>0.090206</td>\n",
              "    </tr>\n",
              "    <tr>\n",
              "      <th>33</th>\n",
              "      <td>2021-04-01 00:00:00</td>\n",
              "      <td>2021-04-08 00:00:00</td>\n",
              "      <td>0.090157</td>\n",
              "    </tr>\n",
              "    <tr>\n",
              "      <th>27</th>\n",
              "      <td>2021-04-08 00:00:00</td>\n",
              "      <td>2021-04-15 00:00:00</td>\n",
              "      <td>0.078386</td>\n",
              "    </tr>\n",
              "  </tbody>\n",
              "</table>\n",
              "</div>\n",
              "      <button class=\"colab-df-convert\" onclick=\"convertToInteractive('df-e7079caf-c565-480f-98ff-35c55f6a20a9')\"\n",
              "              title=\"Convert this dataframe to an interactive table.\"\n",
              "              style=\"display:none;\">\n",
              "        \n",
              "  <svg xmlns=\"http://www.w3.org/2000/svg\" height=\"24px\"viewBox=\"0 0 24 24\"\n",
              "       width=\"24px\">\n",
              "    <path d=\"M0 0h24v24H0V0z\" fill=\"none\"/>\n",
              "    <path d=\"M18.56 5.44l.94 2.06.94-2.06 2.06-.94-2.06-.94-.94-2.06-.94 2.06-2.06.94zm-11 1L8.5 8.5l.94-2.06 2.06-.94-2.06-.94L8.5 2.5l-.94 2.06-2.06.94zm10 10l.94 2.06.94-2.06 2.06-.94-2.06-.94-.94-2.06-.94 2.06-2.06.94z\"/><path d=\"M17.41 7.96l-1.37-1.37c-.4-.4-.92-.59-1.43-.59-.52 0-1.04.2-1.43.59L10.3 9.45l-7.72 7.72c-.78.78-.78 2.05 0 2.83L4 21.41c.39.39.9.59 1.41.59.51 0 1.02-.2 1.41-.59l7.78-7.78 2.81-2.81c.8-.78.8-2.07 0-2.86zM5.41 20L4 18.59l7.72-7.72 1.47 1.35L5.41 20z\"/>\n",
              "  </svg>\n",
              "      </button>\n",
              "      \n",
              "  <style>\n",
              "    .colab-df-container {\n",
              "      display:flex;\n",
              "      flex-wrap:wrap;\n",
              "      gap: 12px;\n",
              "    }\n",
              "\n",
              "    .colab-df-convert {\n",
              "      background-color: #E8F0FE;\n",
              "      border: none;\n",
              "      border-radius: 50%;\n",
              "      cursor: pointer;\n",
              "      display: none;\n",
              "      fill: #1967D2;\n",
              "      height: 32px;\n",
              "      padding: 0 0 0 0;\n",
              "      width: 32px;\n",
              "    }\n",
              "\n",
              "    .colab-df-convert:hover {\n",
              "      background-color: #E2EBFA;\n",
              "      box-shadow: 0px 1px 2px rgba(60, 64, 67, 0.3), 0px 1px 3px 1px rgba(60, 64, 67, 0.15);\n",
              "      fill: #174EA6;\n",
              "    }\n",
              "\n",
              "    [theme=dark] .colab-df-convert {\n",
              "      background-color: #3B4455;\n",
              "      fill: #D2E3FC;\n",
              "    }\n",
              "\n",
              "    [theme=dark] .colab-df-convert:hover {\n",
              "      background-color: #434B5C;\n",
              "      box-shadow: 0px 1px 3px 1px rgba(0, 0, 0, 0.15);\n",
              "      filter: drop-shadow(0px 1px 2px rgba(0, 0, 0, 0.3));\n",
              "      fill: #FFFFFF;\n",
              "    }\n",
              "  </style>\n",
              "\n",
              "      <script>\n",
              "        const buttonEl =\n",
              "          document.querySelector('#df-e7079caf-c565-480f-98ff-35c55f6a20a9 button.colab-df-convert');\n",
              "        buttonEl.style.display =\n",
              "          google.colab.kernel.accessAllowed ? 'block' : 'none';\n",
              "\n",
              "        async function convertToInteractive(key) {\n",
              "          const element = document.querySelector('#df-e7079caf-c565-480f-98ff-35c55f6a20a9');\n",
              "          const dataTable =\n",
              "            await google.colab.kernel.invokeFunction('convertToInteractive',\n",
              "                                                     [key], {});\n",
              "          if (!dataTable) return;\n",
              "\n",
              "          const docLinkHtml = 'Like what you see? Visit the ' +\n",
              "            '<a target=\"_blank\" href=https://colab.research.google.com/notebooks/data_table.ipynb>data table notebook</a>'\n",
              "            + ' to learn more about interactive tables.';\n",
              "          element.innerHTML = '';\n",
              "          dataTable['output_type'] = 'display_data';\n",
              "          await google.colab.output.renderOutput(dataTable, element);\n",
              "          const docLink = document.createElement('div');\n",
              "          docLink.innerHTML = docLinkHtml;\n",
              "          element.appendChild(docLink);\n",
              "        }\n",
              "      </script>\n",
              "    </div>\n",
              "  </div>\n",
              "  "
            ],
            "text/plain": [
              "                    start                    end       avg\n",
              "29  +94602-12-30 00:00:00  +94603-01-06 00:00:00  0.000000\n",
              "30    2021-03-18 00:00:00    2021-03-25 00:00:00  0.100644\n",
              "40    2021-03-25 00:00:00    2021-04-01 00:00:00  0.090206\n",
              "33    2021-04-01 00:00:00    2021-04-08 00:00:00  0.090157\n",
              "27    2021-04-08 00:00:00    2021-04-15 00:00:00  0.078386"
            ]
          },
          "metadata": {},
          "execution_count": 37
        }
      ]
    },
    {
      "cell_type": "markdown",
      "source": [
        "## How many users for all the twitts"
      ],
      "metadata": {
        "id": "HlssVPUZ25LE"
      }
    },
    {
      "cell_type": "code",
      "source": [
        "spark.conf.set(\"spark.sql.execution.arrow.pyspark.enabled\", \"true\")\n",
        "result_pdf= df.groupBy(\"author id\").count().select(\"*\").toPandas()\n",
        "result_pdf.to_csv('/content/drive/My Drive/big_data/results/count_for_users.csv')  \n",
        "\n",
        "result_pdf.head()"
      ],
      "metadata": {
        "colab": {
          "base_uri": "https://localhost:8080/",
          "height": 206
        },
        "id": "lC6UtZ6w3D5Q",
        "outputId": "112ca568-b297-4ec0-f26a-fccab03b0d8d"
      },
      "execution_count": null,
      "outputs": [
        {
          "output_type": "execute_result",
          "data": {
            "text/html": [
              "\n",
              "  <div id=\"df-12c034f0-c064-46cd-98b0-d88625e2d217\">\n",
              "    <div class=\"colab-df-container\">\n",
              "      <div>\n",
              "<style scoped>\n",
              "    .dataframe tbody tr th:only-of-type {\n",
              "        vertical-align: middle;\n",
              "    }\n",
              "\n",
              "    .dataframe tbody tr th {\n",
              "        vertical-align: top;\n",
              "    }\n",
              "\n",
              "    .dataframe thead th {\n",
              "        text-align: right;\n",
              "    }\n",
              "</style>\n",
              "<table border=\"1\" class=\"dataframe\">\n",
              "  <thead>\n",
              "    <tr style=\"text-align: right;\">\n",
              "      <th></th>\n",
              "      <th>author id</th>\n",
              "      <th>count</th>\n",
              "    </tr>\n",
              "  </thead>\n",
              "  <tbody>\n",
              "    <tr>\n",
              "      <th>0</th>\n",
              "      <td>22080908.0</td>\n",
              "      <td>129</td>\n",
              "    </tr>\n",
              "    <tr>\n",
              "      <th>1</th>\n",
              "      <td>580549931.0</td>\n",
              "      <td>1</td>\n",
              "    </tr>\n",
              "    <tr>\n",
              "      <th>2</th>\n",
              "      <td>1470980671.0</td>\n",
              "      <td>3</td>\n",
              "    </tr>\n",
              "    <tr>\n",
              "      <th>3</th>\n",
              "      <td>155078285.0</td>\n",
              "      <td>1</td>\n",
              "    </tr>\n",
              "    <tr>\n",
              "      <th>4</th>\n",
              "      <td>7.13e+17</td>\n",
              "      <td>173</td>\n",
              "    </tr>\n",
              "  </tbody>\n",
              "</table>\n",
              "</div>\n",
              "      <button class=\"colab-df-convert\" onclick=\"convertToInteractive('df-12c034f0-c064-46cd-98b0-d88625e2d217')\"\n",
              "              title=\"Convert this dataframe to an interactive table.\"\n",
              "              style=\"display:none;\">\n",
              "        \n",
              "  <svg xmlns=\"http://www.w3.org/2000/svg\" height=\"24px\"viewBox=\"0 0 24 24\"\n",
              "       width=\"24px\">\n",
              "    <path d=\"M0 0h24v24H0V0z\" fill=\"none\"/>\n",
              "    <path d=\"M18.56 5.44l.94 2.06.94-2.06 2.06-.94-2.06-.94-.94-2.06-.94 2.06-2.06.94zm-11 1L8.5 8.5l.94-2.06 2.06-.94-2.06-.94L8.5 2.5l-.94 2.06-2.06.94zm10 10l.94 2.06.94-2.06 2.06-.94-2.06-.94-.94-2.06-.94 2.06-2.06.94z\"/><path d=\"M17.41 7.96l-1.37-1.37c-.4-.4-.92-.59-1.43-.59-.52 0-1.04.2-1.43.59L10.3 9.45l-7.72 7.72c-.78.78-.78 2.05 0 2.83L4 21.41c.39.39.9.59 1.41.59.51 0 1.02-.2 1.41-.59l7.78-7.78 2.81-2.81c.8-.78.8-2.07 0-2.86zM5.41 20L4 18.59l7.72-7.72 1.47 1.35L5.41 20z\"/>\n",
              "  </svg>\n",
              "      </button>\n",
              "      \n",
              "  <style>\n",
              "    .colab-df-container {\n",
              "      display:flex;\n",
              "      flex-wrap:wrap;\n",
              "      gap: 12px;\n",
              "    }\n",
              "\n",
              "    .colab-df-convert {\n",
              "      background-color: #E8F0FE;\n",
              "      border: none;\n",
              "      border-radius: 50%;\n",
              "      cursor: pointer;\n",
              "      display: none;\n",
              "      fill: #1967D2;\n",
              "      height: 32px;\n",
              "      padding: 0 0 0 0;\n",
              "      width: 32px;\n",
              "    }\n",
              "\n",
              "    .colab-df-convert:hover {\n",
              "      background-color: #E2EBFA;\n",
              "      box-shadow: 0px 1px 2px rgba(60, 64, 67, 0.3), 0px 1px 3px 1px rgba(60, 64, 67, 0.15);\n",
              "      fill: #174EA6;\n",
              "    }\n",
              "\n",
              "    [theme=dark] .colab-df-convert {\n",
              "      background-color: #3B4455;\n",
              "      fill: #D2E3FC;\n",
              "    }\n",
              "\n",
              "    [theme=dark] .colab-df-convert:hover {\n",
              "      background-color: #434B5C;\n",
              "      box-shadow: 0px 1px 3px 1px rgba(0, 0, 0, 0.15);\n",
              "      filter: drop-shadow(0px 1px 2px rgba(0, 0, 0, 0.3));\n",
              "      fill: #FFFFFF;\n",
              "    }\n",
              "  </style>\n",
              "\n",
              "      <script>\n",
              "        const buttonEl =\n",
              "          document.querySelector('#df-12c034f0-c064-46cd-98b0-d88625e2d217 button.colab-df-convert');\n",
              "        buttonEl.style.display =\n",
              "          google.colab.kernel.accessAllowed ? 'block' : 'none';\n",
              "\n",
              "        async function convertToInteractive(key) {\n",
              "          const element = document.querySelector('#df-12c034f0-c064-46cd-98b0-d88625e2d217');\n",
              "          const dataTable =\n",
              "            await google.colab.kernel.invokeFunction('convertToInteractive',\n",
              "                                                     [key], {});\n",
              "          if (!dataTable) return;\n",
              "\n",
              "          const docLinkHtml = 'Like what you see? Visit the ' +\n",
              "            '<a target=\"_blank\" href=https://colab.research.google.com/notebooks/data_table.ipynb>data table notebook</a>'\n",
              "            + ' to learn more about interactive tables.';\n",
              "          element.innerHTML = '';\n",
              "          dataTable['output_type'] = 'display_data';\n",
              "          await google.colab.output.renderOutput(dataTable, element);\n",
              "          const docLink = document.createElement('div');\n",
              "          docLink.innerHTML = docLinkHtml;\n",
              "          element.appendChild(docLink);\n",
              "        }\n",
              "      </script>\n",
              "    </div>\n",
              "  </div>\n",
              "  "
            ],
            "text/plain": [
              "      author id  count\n",
              "0    22080908.0    129\n",
              "1   580549931.0      1\n",
              "2  1470980671.0      3\n",
              "3   155078285.0      1\n",
              "4      7.13e+17    173"
            ]
          },
          "metadata": {},
          "execution_count": 38
        }
      ]
    },
    {
      "cell_type": "markdown",
      "source": [
        "## Top users - how many twitts and the average sementic score"
      ],
      "metadata": {
        "id": "7ESmSw5O3EGr"
      }
    },
    {
      "cell_type": "code",
      "source": [
        "# Positive likes\n",
        "result_pdf= df.groupBy(\"author id\").agg(avg(\"sentiment_score\").alias(\"avg\")).select(\"*\").toPandas()\n",
        "result_pdf.to_csv('/content/drive/My Drive/big_data/top_users_semantic_score.csv')  \n",
        "\n",
        "result_pdf.head()"
      ],
      "metadata": {
        "colab": {
          "base_uri": "https://localhost:8080/",
          "height": 206
        },
        "id": "XItiZbjs3Q1e",
        "outputId": "cc267a59-f112-407c-ec48-ec6280111eb8"
      },
      "execution_count": null,
      "outputs": [
        {
          "output_type": "execute_result",
          "data": {
            "text/html": [
              "\n",
              "  <div id=\"df-e9e0b94b-ec64-4c1b-8174-e74ceb2eed62\">\n",
              "    <div class=\"colab-df-container\">\n",
              "      <div>\n",
              "<style scoped>\n",
              "    .dataframe tbody tr th:only-of-type {\n",
              "        vertical-align: middle;\n",
              "    }\n",
              "\n",
              "    .dataframe tbody tr th {\n",
              "        vertical-align: top;\n",
              "    }\n",
              "\n",
              "    .dataframe thead th {\n",
              "        text-align: right;\n",
              "    }\n",
              "</style>\n",
              "<table border=\"1\" class=\"dataframe\">\n",
              "  <thead>\n",
              "    <tr style=\"text-align: right;\">\n",
              "      <th></th>\n",
              "      <th>author id</th>\n",
              "      <th>avg</th>\n",
              "    </tr>\n",
              "  </thead>\n",
              "  <tbody>\n",
              "    <tr>\n",
              "      <th>0</th>\n",
              "      <td>22080908.0</td>\n",
              "      <td>0.103003</td>\n",
              "    </tr>\n",
              "    <tr>\n",
              "      <th>1</th>\n",
              "      <td>580549931.0</td>\n",
              "      <td>0.000000</td>\n",
              "    </tr>\n",
              "    <tr>\n",
              "      <th>2</th>\n",
              "      <td>1470980671.0</td>\n",
              "      <td>0.027083</td>\n",
              "    </tr>\n",
              "    <tr>\n",
              "      <th>3</th>\n",
              "      <td>155078285.0</td>\n",
              "      <td>0.418182</td>\n",
              "    </tr>\n",
              "    <tr>\n",
              "      <th>4</th>\n",
              "      <td>7.13e+17</td>\n",
              "      <td>0.077136</td>\n",
              "    </tr>\n",
              "  </tbody>\n",
              "</table>\n",
              "</div>\n",
              "      <button class=\"colab-df-convert\" onclick=\"convertToInteractive('df-e9e0b94b-ec64-4c1b-8174-e74ceb2eed62')\"\n",
              "              title=\"Convert this dataframe to an interactive table.\"\n",
              "              style=\"display:none;\">\n",
              "        \n",
              "  <svg xmlns=\"http://www.w3.org/2000/svg\" height=\"24px\"viewBox=\"0 0 24 24\"\n",
              "       width=\"24px\">\n",
              "    <path d=\"M0 0h24v24H0V0z\" fill=\"none\"/>\n",
              "    <path d=\"M18.56 5.44l.94 2.06.94-2.06 2.06-.94-2.06-.94-.94-2.06-.94 2.06-2.06.94zm-11 1L8.5 8.5l.94-2.06 2.06-.94-2.06-.94L8.5 2.5l-.94 2.06-2.06.94zm10 10l.94 2.06.94-2.06 2.06-.94-2.06-.94-.94-2.06-.94 2.06-2.06.94z\"/><path d=\"M17.41 7.96l-1.37-1.37c-.4-.4-.92-.59-1.43-.59-.52 0-1.04.2-1.43.59L10.3 9.45l-7.72 7.72c-.78.78-.78 2.05 0 2.83L4 21.41c.39.39.9.59 1.41.59.51 0 1.02-.2 1.41-.59l7.78-7.78 2.81-2.81c.8-.78.8-2.07 0-2.86zM5.41 20L4 18.59l7.72-7.72 1.47 1.35L5.41 20z\"/>\n",
              "  </svg>\n",
              "      </button>\n",
              "      \n",
              "  <style>\n",
              "    .colab-df-container {\n",
              "      display:flex;\n",
              "      flex-wrap:wrap;\n",
              "      gap: 12px;\n",
              "    }\n",
              "\n",
              "    .colab-df-convert {\n",
              "      background-color: #E8F0FE;\n",
              "      border: none;\n",
              "      border-radius: 50%;\n",
              "      cursor: pointer;\n",
              "      display: none;\n",
              "      fill: #1967D2;\n",
              "      height: 32px;\n",
              "      padding: 0 0 0 0;\n",
              "      width: 32px;\n",
              "    }\n",
              "\n",
              "    .colab-df-convert:hover {\n",
              "      background-color: #E2EBFA;\n",
              "      box-shadow: 0px 1px 2px rgba(60, 64, 67, 0.3), 0px 1px 3px 1px rgba(60, 64, 67, 0.15);\n",
              "      fill: #174EA6;\n",
              "    }\n",
              "\n",
              "    [theme=dark] .colab-df-convert {\n",
              "      background-color: #3B4455;\n",
              "      fill: #D2E3FC;\n",
              "    }\n",
              "\n",
              "    [theme=dark] .colab-df-convert:hover {\n",
              "      background-color: #434B5C;\n",
              "      box-shadow: 0px 1px 3px 1px rgba(0, 0, 0, 0.15);\n",
              "      filter: drop-shadow(0px 1px 2px rgba(0, 0, 0, 0.3));\n",
              "      fill: #FFFFFF;\n",
              "    }\n",
              "  </style>\n",
              "\n",
              "      <script>\n",
              "        const buttonEl =\n",
              "          document.querySelector('#df-e9e0b94b-ec64-4c1b-8174-e74ceb2eed62 button.colab-df-convert');\n",
              "        buttonEl.style.display =\n",
              "          google.colab.kernel.accessAllowed ? 'block' : 'none';\n",
              "\n",
              "        async function convertToInteractive(key) {\n",
              "          const element = document.querySelector('#df-e9e0b94b-ec64-4c1b-8174-e74ceb2eed62');\n",
              "          const dataTable =\n",
              "            await google.colab.kernel.invokeFunction('convertToInteractive',\n",
              "                                                     [key], {});\n",
              "          if (!dataTable) return;\n",
              "\n",
              "          const docLinkHtml = 'Like what you see? Visit the ' +\n",
              "            '<a target=\"_blank\" href=https://colab.research.google.com/notebooks/data_table.ipynb>data table notebook</a>'\n",
              "            + ' to learn more about interactive tables.';\n",
              "          element.innerHTML = '';\n",
              "          dataTable['output_type'] = 'display_data';\n",
              "          await google.colab.output.renderOutput(dataTable, element);\n",
              "          const docLink = document.createElement('div');\n",
              "          docLink.innerHTML = docLinkHtml;\n",
              "          element.appendChild(docLink);\n",
              "        }\n",
              "      </script>\n",
              "    </div>\n",
              "  </div>\n",
              "  "
            ],
            "text/plain": [
              "      author id       avg\n",
              "0    22080908.0  0.103003\n",
              "1   580549931.0  0.000000\n",
              "2  1470980671.0  0.027083\n",
              "3   155078285.0  0.418182\n",
              "4      7.13e+17  0.077136"
            ]
          },
          "metadata": {},
          "execution_count": 40
        }
      ]
    }
  ]
}