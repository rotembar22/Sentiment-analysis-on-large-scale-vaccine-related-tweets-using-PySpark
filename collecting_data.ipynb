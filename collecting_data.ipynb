{
  "nbformat": 4,
  "nbformat_minor": 0,
  "metadata": {
    "colab": {
      "name": "Untitled12.ipynb",
      "provenance": []
    },
    "kernelspec": {
      "name": "python3",
      "display_name": "Python 3"
    },
    "language_info": {
      "name": "python"
    }
  },
  "cells": [
    {
      "cell_type": "code",
      "execution_count": 1,
      "metadata": {
        "id": "6XI7ayFQ9Gma"
      },
      "outputs": [],
      "source": [
        "# Import the necessary packages\n",
        "import requests\n",
        "import os\n",
        "import json\n",
        "import pandas as pd\n",
        "import csv\n",
        "import datetime\n",
        "import dateutil.parser\n",
        "import time"
      ]
    },
    {
      "cell_type": "code",
      "source": [
        "# Defining the local environment variable with the key received in the previous step\n",
        "os.environ['TOKEN'] = 'AAAAAAAAAAAAAAAAAAAAAOrPYAEAAAAAzotm%2BluowpF8blMB3kwWGXk%2B%2BJU%3DrKoUdWu5nquE4NaYEQ27TJVo103unUVbW5JQmY8L4GIZckjHwp'\n",
        "headers = {\"Authorization\": \"Bearer {}\".format(os.getenv('TOKEN'))}\n",
        "\n",
        "# Defining the Academic Research URL\n",
        "search_url = \"https://api.twitter.com/2/tweets/search/all\" \n",
        "\n",
        "# creating url with query params\n",
        "def create_url(keyword, start_date, end_date, max_results = 10):\n",
        "    query_params = {'query': keyword,\n",
        "                    'start_time': start_date,\n",
        "                    'end_time': end_date,\n",
        "                    'max_results': max_results,  \n",
        "                    'expansions': 'author_id,in_reply_to_user_id,geo.place_id',\n",
        "                    'tweet.fields': 'id,text,author_id,in_reply_to_user_id,geo,conversation_id,created_at,public_metrics',\n",
        "                    'user.fields': 'id,name,username,created_at,description,public_metrics,verified',\n",
        "                    'place.fields': 'full_name,id,country,country_code,geo,name,place_type',\n",
        "                    'next_token': {}}\n",
        "    return query_params\n",
        "\n",
        "\n"
      ],
      "metadata": {
        "id": "gzbwW4PW9LqC"
      },
      "execution_count": 2,
      "outputs": []
    },
    {
      "cell_type": "code",
      "source": [
        "# Connect to the end-point and send a request to the API\n",
        "def connect_to_endpoint(url, headers, params, next_token = None):\n",
        "    params['next_token'] = next_token   \n",
        "    response = requests.request(\"GET\", url, headers = headers, params = params)\n",
        "\n",
        "    # Raise an exception if the request didn't succeeded\n",
        "    if response.status_code != 200:\n",
        "        raise Exception(response.status_code, response.text)\n",
        "    return response.json()"
      ],
      "metadata": {
        "id": "k_r8f-j49LsP"
      },
      "execution_count": 3,
      "outputs": []
    },
    {
      "cell_type": "code",
      "source": [
        "# Inputs for the request\n",
        "keyword = \"vaccine lang:en place_country:US\"\n",
        "start_time = \"2021-03-01T00:00:00.000Z\"\n",
        "end_time = \"2021-03-31T00:00:00.000Z\"\n",
        "max_results = 10\n",
        "\n",
        "# Make a request\n",
        "url = create_url(keyword, start_time,end_time, max_results)\n",
        "json_response = connect_to_endpoint(search_url, headers, url)\n",
        "\n",
        "print(json_response)"
      ],
      "metadata": {
        "id": "uDGpBWWp9Lui",
        "colab": {
          "base_uri": "https://localhost:8080/"
        },
        "outputId": "0f8a9d17-691f-4351-d856-c74f7575f5a6"
      },
      "execution_count": 4,
      "outputs": [
        {
          "output_type": "stream",
          "name": "stdout",
          "text": [
            "{'data': [{'conversation_id': '1377019164448153600', 'id': '1377047219036155904', 'text': '@DeondreJackson_ also vaccine prevents 100% of hospitalization due the covid \\n\\nAnd frankly any hosptilization in this country is gonna cost you ATLEAST 10k and a massive headache with billing. She want that bill? I’ll take one day of side effects to never step foot in a hospital again', 'geo': {'place_id': '590c1000bfb45cf6'}, 'in_reply_to_user_id': '3161427649', 'author_id': '3161427649', 'created_at': '2021-03-30T23:56:55.000Z', 'public_metrics': {'retweet_count': 0, 'reply_count': 0, 'like_count': 3, 'quote_count': 0}}, {'conversation_id': '1377047210735644677', 'id': '1377047210735644677', 'text': 'Next week the state of Delaware is expanding vaccine eligibility to all Delawareans 16 and older. #decovid #CovidVaccine #COVID19 #pandemia #Salud https://t.co/6ZuAgLW3u4', 'geo': {'place_id': '3f5897b87d2bf56c'}, 'author_id': '46679143', 'created_at': '2021-03-30T23:56:53.000Z', 'public_metrics': {'retweet_count': 1, 'reply_count': 0, 'like_count': 0, 'quote_count': 0}}, {'conversation_id': '1377047205492703234', 'id': '1377047205492703234', 'text': 'As vaccine supply increases across California, #VaccineEquity is more important than ever.\\n\\nI am in Montebello today with @MAOF &amp; @riteaid delivering hundreds of vaccines directly to underserved, at-risk communities. https://t.co/frlWL7bfcO', 'geo': {'place_id': '2da132a7bfebfc0c'}, 'author_id': '312134473', 'created_at': '2021-03-30T23:56:52.000Z', 'public_metrics': {'retweet_count': 6, 'reply_count': 1, 'like_count': 18, 'quote_count': 0}}, {'conversation_id': '1377047119496892421', 'id': '1377047119496892421', 'text': 'which vaccine y’all think Taylor got', 'geo': {'place_id': '3b98b02fba3f9753'}, 'author_id': '543072558', 'created_at': '2021-03-30T23:56:32.000Z', 'public_metrics': {'retweet_count': 0, 'reply_count': 1, 'like_count': 0, 'quote_count': 0}}, {'conversation_id': '1377047004145143811', 'id': '1377047004145143811', 'text': 'April 7.  On-campus vaccine clinic.  Students, let’s do this!! https://t.co/7CdNUjXHui https://t.co/rdTmbww3pi', 'geo': {'place_id': '07d9dbc5b9c88002'}, 'author_id': '506427621', 'created_at': '2021-03-30T23:56:04.000Z', 'public_metrics': {'retweet_count': 5, 'reply_count': 0, 'like_count': 24, 'quote_count': 0}}, {'conversation_id': '1377036344388640768', 'id': '1377046933294964748', 'text': '@dinomerrell I wanna get it between April - May and the vaccine should be available to me by then', 'geo': {'place_id': '1d9a5370a355ab0c'}, 'in_reply_to_user_id': '939282496566513664', 'author_id': '2681275267', 'created_at': '2021-03-30T23:55:47.000Z', 'public_metrics': {'retweet_count': 0, 'reply_count': 1, 'like_count': 0, 'quote_count': 0}}, {'conversation_id': '1377046819910287372', 'id': '1377046819910287372', 'text': 'https://t.co/NkqHNyi1YE\\n\\nFree stuff for getting vaccinated!\\nMaybe your family will like this?\\n\\n@GreyDeLisle', 'geo': {'place_id': '5a110d312052166f'}, 'author_id': '32537454', 'created_at': '2021-03-30T23:55:20.000Z', 'public_metrics': {'retweet_count': 0, 'reply_count': 0, 'like_count': 0, 'quote_count': 1}}, {'conversation_id': '1377019164448153600', 'id': '1377046810594787329', 'text': '@DeondreJackson_ No possible way to get Covid, as not a single vaccine contains the virus, just the spike protein for it in order to create the antibodies. The spike protein alone can do absolutely nothing to you. \\n\\nThe side effects of the vaccine are &lt;&lt;&lt;&lt;&lt; than symptoms of covid', 'geo': {'place_id': '590c1000bfb45cf6'}, 'in_reply_to_user_id': '996518082301562884', 'author_id': '3161427649', 'created_at': '2021-03-30T23:55:18.000Z', 'public_metrics': {'retweet_count': 0, 'reply_count': 2, 'like_count': 6, 'quote_count': 0}}, {'conversation_id': '1377046198385836035', 'id': '1377046198385836035', 'text': 'Why y’all be taking pics wit your vaccine card? 😂', 'geo': {'place_id': '4ec01c9dbc693497'}, 'author_id': '3092259035', 'created_at': '2021-03-30T23:52:52.000Z', 'public_metrics': {'retweet_count': 0, 'reply_count': 2, 'like_count': 3, 'quote_count': 0}}], 'includes': {'users': [{'verified': False, 'username': 'aydreahna', 'public_metrics': {'followers_count': 2040, 'following_count': 1019, 'tweet_count': 22024, 'listed_count': 16}, 'id': '3161427649', 'description': 'ATL sports addict & Georgia Tech grad x2. #LFC. Hippie, entrepreneur, engineer. Bad puns are how eye roll. Will fight you if you prefer tacos w/ flour tortillas', 'name': 'adrianna', 'created_at': '2015-04-17T16:45:44.000Z'}, {'verified': False, 'username': 'westsidehealth', 'public_metrics': {'followers_count': 1468, 'following_count': 1819, 'tweet_count': 9246, 'listed_count': 44}, 'id': '46679143', 'description': 'Delaware Community Health Center. Five locations providing equal access to quality healthcare, regardless of ability to pay RTs & follows are not an endorsement', 'name': 'Westside Family Healthcare', 'created_at': '2009-06-12T15:47:47.000Z'}, {'verified': True, 'username': 'RepLindaSanchez', 'public_metrics': {'followers_count': 47984, 'following_count': 2455, 'tweet_count': 7588, 'listed_count': 1247}, 'id': '312134473', 'description': 'I work for #CA38 in Congress. 🇺🇸 Serve on the @WaysMeansCmte. Proud mom, dog lover, & @Dodgers fan. ⚾️', 'name': 'Rep. Linda Sánchez', 'created_at': '2011-06-06T16:50:45.000Z'}, {'verified': False, 'username': 'JustEshan', 'public_metrics': {'followers_count': 307, 'following_count': 260, 'tweet_count': 38164, 'listed_count': 4}, 'id': '543072558', 'description': 'free spirit 🧚✨', 'name': 'not bingus', 'created_at': '2012-04-02T01:03:44.000Z'}, {'verified': False, 'username': 'GardnerWebbpres', 'public_metrics': {'followers_count': 1782, 'following_count': 724, 'tweet_count': 844, 'listed_count': 4}, 'id': '506427621', 'description': 'Dr. William M. Downs, 13th President, @gardnerwebb', 'name': 'GardnerWebbPresident', 'created_at': '2012-02-27T21:26:44.000Z'}, {'verified': False, 'username': '_ajlores__', 'public_metrics': {'followers_count': 738, 'following_count': 4090, 'tweet_count': 11932, 'listed_count': 13}, 'id': '2681275267', 'description': '| RattPack Till My Pulse Flat | PLP✌🏼❤️➕ | TOH🦉| Amphibia🐸 | VVM💖💜 | Hip-Hop Enthusiast | Nessa Enthusiast | Lifelong Bulls Fan | he/him', 'name': 'Alex L💔²⁰⁰¹', 'created_at': '2014-07-26T04:02:00.000Z'}, {'verified': False, 'username': 'dinomerrell', 'public_metrics': {'followers_count': 687, 'following_count': 435, 'tweet_count': 17552, 'listed_count': 18}, 'id': '939282496566513664', 'description': 'happiness can be found even in the darkest of times, if one only remembers to turn on the light. 🥔 ☕️🍷', 'name': '..Beth 🦕', 'created_at': '2017-12-08T23:56:13.000Z'}, {'verified': False, 'username': 'Strickalator', 'public_metrics': {'followers_count': 3062, 'following_count': 5000, 'tweet_count': 131881, 'listed_count': 56}, 'id': '32537454', 'description': 'Shawn ☀️ Sunshine☀️ Strickland STRICKALATOR aka @SupergirlofSF. \\n#VoiceActor #Actor #Singer #Comedy #Activist ☮Two Spirit\\n🇺🇲MAKE AMERICA🥰SMILE AGAIN!™', 'name': 'Shawn Sunshine Strickland', 'created_at': '2009-04-17T19:38:50.000Z'}, {'verified': False, 'username': 'DeondreJackson_', 'public_metrics': {'followers_count': 540, 'following_count': 1374, 'tweet_count': 16268, 'listed_count': 4}, 'id': '996518082301562884', 'description': 'Detroit Sports🏈⚾️🏒🏀 | #GoBlue🏈🏀 | #ATLUTD my tweets are either funny or me being mad. RSG 🔴⚫️🔴⚫️ ROWDY AND PROUD HAIL UNITED', 'name': 'Deondre👹', 'created_at': '2018-05-15T22:30:00.000Z'}, {'verified': False, 'username': '_jianthedon', 'public_metrics': {'followers_count': 1496, 'following_count': 612, 'tweet_count': 80581, 'listed_count': 9}, 'id': '3092259035', 'description': 'Film photographer @dreamersfilm', 'name': 'Jian Cozart', 'created_at': '2015-03-16T02:16:51.000Z'}], 'places': [{'full_name': 'North Druid Hills, GA', 'country': 'United States', 'country_code': 'US', 'id': '590c1000bfb45cf6', 'name': 'North Druid Hills', 'geo': {'type': 'Feature', 'bbox': [-84.348497, 33.799908, -84.303938, 33.840414], 'properties': {}}, 'place_type': 'city'}, {'full_name': 'Delaware, USA', 'country': 'United States', 'country_code': 'US', 'id': '3f5897b87d2bf56c', 'name': 'Delaware', 'geo': {'type': 'Feature', 'bbox': [-75.7887564, 38.4510398, -74.984165, 39.839007], 'properties': {}}, 'place_type': 'admin'}, {'full_name': 'Montebello, CA', 'country': 'United States', 'country_code': 'US', 'id': '2da132a7bfebfc0c', 'name': 'Montebello', 'geo': {'type': 'Feature', 'bbox': [-118.144082, 33.974263, -118.0707974, 34.04611], 'properties': {}}, 'place_type': 'city'}, {'full_name': 'North Carolina, USA', 'country': 'United States', 'country_code': 'US', 'id': '3b98b02fba3f9753', 'name': 'North Carolina', 'geo': {'type': 'Feature', 'bbox': [-84.3219475, 33.752879, -75.40012, 36.588118], 'properties': {}}, 'place_type': 'admin'}, {'full_name': 'Lutz-Yelton Convocation Center', 'country': 'United States', 'country_code': 'US', 'id': '07d9dbc5b9c88002', 'name': 'Lutz-Yelton Convocation Center', 'geo': {'type': 'Feature', 'bbox': [-81.6694537233629, 35.24636456217005, -81.6694537233629, 35.24636456217005], 'properties': {}}, 'place_type': 'poi'}, {'full_name': 'Chicago, IL', 'country': 'United States', 'country_code': 'US', 'id': '1d9a5370a355ab0c', 'name': 'Chicago', 'geo': {'type': 'Feature', 'bbox': [-87.940033, 41.644102, -87.523993, 42.0230669], 'properties': {}}, 'place_type': 'city'}, {'full_name': 'San Francisco, CA', 'country': 'United States', 'country_code': 'US', 'id': '5a110d312052166f', 'name': 'San Francisco', 'geo': {'type': 'Feature', 'bbox': [-122.514926, 37.708075, -122.357031, 37.833238], 'properties': {}}, 'place_type': 'city'}, {'full_name': 'Florida, USA', 'country': 'United States', 'country_code': 'US', 'id': '4ec01c9dbc693497', 'name': 'Florida', 'geo': {'type': 'Feature', 'bbox': [-87.634643, 24.396308, -79.974307, 31.001056], 'properties': {}}, 'place_type': 'admin'}]}, 'meta': {'newest_id': '1377047219036155904', 'oldest_id': '1377046198385836035', 'result_count': 9, 'next_token': 'b26v89c19zqg8o3fosqtycrbt7lq2ju7ve7pimlzclo59'}}\n"
          ]
        }
      ]
    },
    {
      "cell_type": "code",
      "source": [
        ""
      ],
      "metadata": {
        "id": "HOJsu-QF9pcV"
      },
      "execution_count": 4,
      "outputs": []
    },
    {
      "cell_type": "code",
      "source": [
        "# Create a new CSV file\n",
        "csvFile = open(\"twitter_data.csv\", \"a\", newline=\"\", encoding='utf-8')\n",
        "csvWriter = csv.writer(csvFile)\n",
        "\n",
        "# Create features titles\n",
        "csvWriter.writerow(['text', 'author_id', 'created_at', 'geo', 'tweet_id', 'retweet_count'])\n",
        "csvFile.close()"
      ],
      "metadata": {
        "id": "JvubaaxOLiU_"
      },
      "execution_count": 5,
      "outputs": []
    },
    {
      "cell_type": "code",
      "source": [
        "def append_to_csv(json_response):\n",
        "\n",
        "    # Open the CSV file\n",
        "    csvFile = open(\"twitter_data.csv\", \"a\", newline=\"\", encoding='utf-8')\n",
        "    csvWriter = csv.writer(csvFile)\n",
        "    \n",
        "    # Get list of places from json_response\n",
        "    places = {p[\"id\"]: p for p in json_response[\"includes\"]['places']}\n",
        "\n",
        "    # Loop through each tweet in the json_response \n",
        "    for tweet in json_response['data']:\n",
        "        text = tweet['text']\n",
        "        author_id = tweet['author_id']\n",
        "        created_at = dateutil.parser.parse(tweet['created_at'])\n",
        "        tweet_id = tweet['id']\n",
        "        retweet_count = tweet['public_metrics']['retweet_count']\n",
        "\n",
        "        try:\n",
        "            geo =places[tweet[\"geo\"]['place_id']][\"full_name\"]\n",
        "        except:\n",
        "            geo = \"None\"\n",
        "        \n",
        "        # Append the tweet to a new row\n",
        "        csvWriter.writerow([text, author_id, created_at, geo, tweet_id, retweet_count])\n",
        "\n",
        "    csvFile.close()"
      ],
      "metadata": {
        "id": "6HgK1rKHN1pF"
      },
      "execution_count": 6,
      "outputs": []
    },
    {
      "cell_type": "code",
      "source": [
        ""
      ],
      "metadata": {
        "id": "I1fhPBHCdPc1"
      },
      "execution_count": 6,
      "outputs": []
    },
    {
      "cell_type": "code",
      "source": [
        "keyword = \"vaccines lang:en place_country:US OR vaccine lang:en place_country:US\"   \n",
        "start_list =    ['2021-01-01T00:00:00.000Z']\n",
        "end_list =      ['2021-07-31T00:00:00.000Z']\n",
        "max_results = 500\n",
        "\n",
        "\n",
        "# Initialzing the total collected tweets\n",
        "count = 0\n",
        "# Defining the total tweets collected limit\n",
        "max_count = 100000\n",
        "# Initialzing the first next_token\n",
        "next_token = None\n",
        "\n",
        "while True:\n",
        "    # Check if max_count reached\n",
        "    if count >= max_count:\n",
        "        break\n",
        "\n",
        "    # Make a request\n",
        "    url = create_url(keyword, start_list[i],end_list[i], max_results)\n",
        "    json_response = connect_to_endpoint(search_url, headers, url, next_token)\n",
        "    result_count = json_response['meta']['result_count']\n",
        "\n",
        "    if 'next_token' in json_response['meta']:\n",
        "        # Save the token to use for next request\n",
        "        next_token = json_response['meta']['next_token']\n",
        "        if result_count is not None and result_count > 0 and next_token is not None:\n",
        "            append_to_csv(json_response)\n",
        "            count += result_count\n",
        "            print(\"Total Tweets collected: \", count)\n",
        "            time.sleep(5)                \n",
        "    # If no next token exists\n",
        "    else:\n",
        "        print(\"Data collection finished successfully\")\n",
        "        break\n",
        "\n",
        "    # Delay between the requests\n",
        "    time.sleep(5)"
      ],
      "metadata": {
        "colab": {
          "base_uri": "https://localhost:8080/",
          "height": 276
        },
        "id": "gWN0AR8zLiXN",
        "outputId": "f8491e63-1426-4c68-b03c-a5c23afbf53a"
      },
      "execution_count": 9,
      "outputs": [
        {
          "output_type": "stream",
          "name": "stdout",
          "text": [
            "Total Tweets collected:  483\n",
            "Total Tweets collected:  975\n"
          ]
        },
        {
          "output_type": "error",
          "ename": "KeyboardInterrupt",
          "evalue": "ignored",
          "traceback": [
            "\u001b[0;31m---------------------------------------------------------------------------\u001b[0m",
            "\u001b[0;31mKeyboardInterrupt\u001b[0m                         Traceback (most recent call last)",
            "\u001b[0;32m<ipython-input-9-1496e4cca64a>\u001b[0m in \u001b[0;36m<module>\u001b[0;34m()\u001b[0m\n\u001b[1;32m     29\u001b[0m             \u001b[0mcount\u001b[0m \u001b[0;34m+=\u001b[0m \u001b[0mresult_count\u001b[0m\u001b[0;34m\u001b[0m\u001b[0;34m\u001b[0m\u001b[0m\n\u001b[1;32m     30\u001b[0m             \u001b[0mprint\u001b[0m\u001b[0;34m(\u001b[0m\u001b[0;34m\"Total Tweets collected: \"\u001b[0m\u001b[0;34m,\u001b[0m \u001b[0mcount\u001b[0m\u001b[0;34m)\u001b[0m\u001b[0;34m\u001b[0m\u001b[0;34m\u001b[0m\u001b[0m\n\u001b[0;32m---> 31\u001b[0;31m             \u001b[0mtime\u001b[0m\u001b[0;34m.\u001b[0m\u001b[0msleep\u001b[0m\u001b[0;34m(\u001b[0m\u001b[0;36m5\u001b[0m\u001b[0;34m)\u001b[0m\u001b[0;34m\u001b[0m\u001b[0;34m\u001b[0m\u001b[0m\n\u001b[0m\u001b[1;32m     32\u001b[0m     \u001b[0;31m# If no next token exists\u001b[0m\u001b[0;34m\u001b[0m\u001b[0;34m\u001b[0m\u001b[0;34m\u001b[0m\u001b[0m\n\u001b[1;32m     33\u001b[0m     \u001b[0;32melse\u001b[0m\u001b[0;34m:\u001b[0m\u001b[0;34m\u001b[0m\u001b[0;34m\u001b[0m\u001b[0m\n",
            "\u001b[0;31mKeyboardInterrupt\u001b[0m: "
          ]
        }
      ]
    }
  ]
}